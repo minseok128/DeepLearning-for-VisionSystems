{
  "cells": [
    {
      "cell_type": "code",
      "execution_count": 15,
      "metadata": {},
      "outputs": [
        {
          "name": "stdout",
          "output_type": "stream",
          "text": [
            "Requirement already satisfied: torchinfo in /goinfre/michang/CV_Sys_DL/myenv/lib/python3.10/site-packages (1.8.0)\n",
            "\n",
            "\u001b[1m[\u001b[0m\u001b[34;49mnotice\u001b[0m\u001b[1;39;49m]\u001b[0m\u001b[39;49m A new release of pip is available: \u001b[0m\u001b[31;49m23.0.1\u001b[0m\u001b[39;49m -> \u001b[0m\u001b[32;49m24.1.1\u001b[0m\n",
            "\u001b[1m[\u001b[0m\u001b[34;49mnotice\u001b[0m\u001b[1;39;49m]\u001b[0m\u001b[39;49m To update, run: \u001b[0m\u001b[32;49mpip install --upgrade pip\u001b[0m\n",
            "zsh:1: command not found: nvidia-smi\n"
          ]
        }
      ],
      "source": [
        "!pip install torchinfo\n",
        "!nvidia-smi"
      ]
    },
    {
      "cell_type": "code",
      "execution_count": 2,
      "metadata": {
        "id": "w-H7jVy6TZjG"
      },
      "outputs": [],
      "source": [
        "# import\n",
        "\n",
        "import numpy as np\n",
        "from datetime import datetime\n",
        "import torch\n",
        "import torch.nn as nn\n",
        "import torch.nn.functional as F\n",
        "from torch.utils.data import DataLoader\n",
        "from torchvision import transforms\n",
        "from torchvision import datasets\n",
        "import matplotlib.pyplot as plt\n",
        "import torchinfo\n",
        "\n",
        "DEVICE = \"cuda\" if torch.cuda.is_available() else \"cpu\"\n",
        "from pytz import timezone"
      ]
    },
    {
      "cell_type": "code",
      "execution_count": 3,
      "metadata": {
        "id": "OLzGmT0HTZjJ"
      },
      "outputs": [],
      "source": [
        "# 하이퍼파라미터 설정\n",
        "RANDOM_SEED = 4242\n",
        "LEARNING_RATE = 0.01\n",
        "BATCH_SIZE = 32\n",
        "EPOCHS = 90\n",
        "IMG_SIZE = 227\n",
        "NUM_CLASSES = 1000\n",
        "\n",
        "# 규제화 파라미터 설정\n",
        "DROPOUT = 0.5\n",
        "LRN_K = 2.0\n",
        "LRN_ALPHA = 0.0001\n",
        "LRN_BETA = 0.75\n",
        "LRN_N = 5"
      ]
    },
    {
      "cell_type": "code",
      "execution_count": 4,
      "metadata": {
        "id": "GqQG1MxKTZjJ"
      },
      "outputs": [],
      "source": [
        "# 모델의 정확도를 계산하는 함수\n",
        "def get_accuracy(model, data_loader, device):\n",
        "    correct_predictions = 0\n",
        "    total_predictions = 0\n",
        "    with torch.no_grad():\n",
        "        model.eval()\n",
        "        for images, labels in data_loader:\n",
        "            images = images.to(device)\n",
        "            labels = labels.to(device)\n",
        "            probabilities = F.softmax(model(images), dim=-1)\n",
        "            _, predicted_labels = torch.max(probabilities, 1)\n",
        "\n",
        "            total_predictions += labels.size(0)\n",
        "            correct_predictions += (predicted_labels == labels).sum()\n",
        "    return correct_predictions.float() / total_predictions"
      ]
    },
    {
      "cell_type": "code",
      "execution_count": 5,
      "metadata": {
        "id": "iJfn7YN0TZjJ"
      },
      "outputs": [],
      "source": [
        "# 학습 손실과 검증 손실을 시각화\n",
        "def plot_loss(train_loss, val_loss):\n",
        "    plt.style.use(\"grayscale\")\n",
        "    train_loss = np.array(train_loss)\n",
        "    val_loss = np.array(val_loss)\n",
        "    fig, ax = plt.subplots(1, 1, figsize=(8, 4.5))\n",
        "    ax.plot(train_loss, color=\"green\", label=\"Training Loss\")\n",
        "    ax.plot(val_loss, color=\"red\", label=\"Validation Loss\")\n",
        "    ax.set(title=\"Loss Over Epochs\", xlabel=\"EPOCH\", ylabel=\"LOSS\")\n",
        "    ax.legend()\n",
        "    fig.show()\n",
        "    plt.style.use(\"default\")"
      ]
    },
    {
      "cell_type": "code",
      "execution_count": 6,
      "metadata": {
        "id": "NGJjH-4QTZjK"
      },
      "outputs": [],
      "source": [
        "# 모델 학습 함수\n",
        "def train(train_loader, model, criterion, optimizer, device):\n",
        "    model.train()\n",
        "    total_loss = 0\n",
        "    for images, labels in train_loader:\n",
        "        optimizer.zero_grad()\n",
        "        images = images.to(device)\n",
        "        labels = labels.to(device)\n",
        "        logits = model(images)\n",
        "        loss = criterion(logits, labels)\n",
        "        total_loss += loss.item() * images.size(0)\n",
        "        loss.backward()\n",
        "        optimizer.step()\n",
        "    epoch_loss = total_loss / len(train_loader.dataset)\n",
        "    return model, optimizer, epoch_loss"
      ]
    },
    {
      "cell_type": "code",
      "execution_count": 7,
      "metadata": {
        "id": "8z8T2ZilTZjK"
      },
      "outputs": [],
      "source": [
        "# 검증 데이터셋을 사용하여 모델의 성능을 평가\n",
        "def validate(valid_loader, model, criterion, device):\n",
        "    model.eval()\n",
        "    total_loss = 0\n",
        "\n",
        "    for images, labels in valid_loader:\n",
        "        images = images.to(device)\n",
        "        labels = labels.to(device)\n",
        "\n",
        "        # 순전파와 손실 기록하기\n",
        "        logits = model(images)\n",
        "        loss = criterion(logits, labels)\n",
        "        total_loss += loss.item() * images.size(0)\n",
        "\n",
        "    epoch_loss = total_loss / len(valid_loader.dataset)\n",
        "    return model, epoch_loss"
      ]
    },
    {
      "cell_type": "code",
      "execution_count": 8,
      "metadata": {
        "id": "FbXy9bZKTZjK"
      },
      "outputs": [],
      "source": [
        "# 전체 학습 루프\n",
        "def training_loop(\n",
        "    model,\n",
        "    criterion,\n",
        "    optimizer,\n",
        "    train_loader,\n",
        "    valid_loader,\n",
        "    epochs,\n",
        "    device,\n",
        "    print_every=1,\n",
        "):\n",
        "    train_losses = []\n",
        "    valid_losses = []\n",
        "\n",
        "    for epoch in range(epochs):\n",
        "        # training\n",
        "        model, optimizer, train_loss = train(\n",
        "            train_loader, model, criterion, optimizer, device\n",
        "        )\n",
        "        train_losses.append(train_loss)\n",
        "\n",
        "        # validation\n",
        "        with torch.no_grad():\n",
        "            model, valid_loss = validate(valid_loader, model, criterion, device)\n",
        "            valid_losses.append(valid_loss)\n",
        "\n",
        "        if epoch % print_every == (print_every - 1):\n",
        "\n",
        "            train_acc = get_accuracy(model, train_loader, device=device)\n",
        "            valid_acc = get_accuracy(model, valid_loader, device=device)\n",
        "\n",
        "            print(\n",
        "                datetime.now(timezone(\"Asia/Seoul\")).time().replace(microsecond=0),\n",
        "                \"--- \",\n",
        "                f\"Epoch: {epoch}\\t\"\n",
        "                f\"Train loss: {train_loss:.4f}\\t\"\n",
        "                f\"Valid loss: {valid_loss:.4f}\\t\"\n",
        "                f\"Train accuracy: {100 * train_acc:.2f}\\t\"\n",
        "                f\"Valid accuracy: {100 * valid_acc:.2f}\",\n",
        "            )\n",
        "\n",
        "    plot_loss(train_losses, valid_losses)\n",
        "\n",
        "    return model, optimizer, (train_losses, valid_losses)"
      ]
    },
    {
      "cell_type": "code",
      "execution_count": 13,
      "metadata": {
        "colab": {
          "base_uri": "https://localhost:8080/"
        },
        "id": "3PdseEJ1TZjL",
        "outputId": "0b7137bf-012e-40bf-a445-29adcb7a2d90"
      },
      "outputs": [
        {
          "data": {
            "text/plain": [
              "============================================================================================================================================\n",
              "Layer (type (var_name):depth-idx)        Input Shape               Output Shape              Param #                   Kernel Shape\n",
              "============================================================================================================================================\n",
              "AlexNetForCIFAR10 (AlexNetForCIFAR10)    [1, 3, 227, 227]          [1, 1000]                 --                        --\n",
              "├─Conv2d (conv1_a): 1-1                  [1, 3, 227, 227]          [1, 48, 55, 55]           17,472                    [11, 11]\n",
              "├─LocalResponseNorm (lrn): 1-2           [1, 48, 55, 55]           [1, 48, 55, 55]           --                        --\n",
              "├─Conv2d (conv1_b): 1-3                  [1, 3, 227, 227]          [1, 48, 55, 55]           17,472                    [11, 11]\n",
              "├─LocalResponseNorm (lrn): 1-4           [1, 48, 55, 55]           [1, 48, 55, 55]           --                        --\n",
              "├─MaxPool2d (pool1): 1-5                 [1, 48, 55, 55]           [1, 48, 27, 27]           --                        3\n",
              "├─MaxPool2d (pool1): 1-6                 [1, 48, 55, 55]           [1, 48, 27, 27]           --                        3\n",
              "├─Conv2d (conv2_a): 1-7                  [1, 48, 27, 27]           [1, 128, 27, 27]          153,728                   [5, 5]\n",
              "├─LocalResponseNorm (lrn): 1-8           [1, 128, 27, 27]          [1, 128, 27, 27]          --                        --\n",
              "├─Conv2d (conv2_b): 1-9                  [1, 48, 27, 27]           [1, 128, 27, 27]          153,728                   [5, 5]\n",
              "├─LocalResponseNorm (lrn): 1-10          [1, 128, 27, 27]          [1, 128, 27, 27]          --                        --\n",
              "├─MaxPool2d (pool2): 1-11                [1, 128, 27, 27]          [1, 128, 13, 13]          --                        3\n",
              "├─MaxPool2d (pool2): 1-12                [1, 128, 27, 27]          [1, 128, 13, 13]          --                        3\n",
              "├─Conv2d (conv3_a): 1-13                 [1, 256, 13, 13]          [1, 192, 13, 13]          442,560                   [3, 3]\n",
              "├─Conv2d (conv3_b): 1-14                 [1, 256, 13, 13]          [1, 192, 13, 13]          442,560                   [3, 3]\n",
              "├─Conv2d (conv4_a): 1-15                 [1, 192, 13, 13]          [1, 192, 13, 13]          331,968                   [3, 3]\n",
              "├─Conv2d (conv4_b): 1-16                 [1, 192, 13, 13]          [1, 192, 13, 13]          331,968                   [3, 3]\n",
              "├─Conv2d (conv5_a): 1-17                 [1, 192, 13, 13]          [1, 128, 13, 13]          221,312                   [3, 3]\n",
              "├─Conv2d (conv5_b): 1-18                 [1, 192, 13, 13]          [1, 128, 13, 13]          221,312                   [3, 3]\n",
              "├─MaxPool2d (pool5): 1-19                [1, 128, 13, 13]          [1, 128, 6, 6]            --                        3\n",
              "├─MaxPool2d (pool5): 1-20                [1, 128, 13, 13]          [1, 128, 6, 6]            --                        3\n",
              "├─Linear (fc6_a): 1-21                   [1, 9216]                 [1, 2048]                 18,876,416                --\n",
              "├─Dropout (dropout): 1-22                [1, 2048]                 [1, 2048]                 --                        --\n",
              "├─Linear (fc6_b): 1-23                   [1, 9216]                 [1, 2048]                 18,876,416                --\n",
              "├─Dropout (dropout): 1-24                [1, 2048]                 [1, 2048]                 --                        --\n",
              "├─Linear (fc7_a): 1-25                   [1, 4096]                 [1, 2048]                 8,390,656                 --\n",
              "├─Dropout (dropout): 1-26                [1, 2048]                 [1, 2048]                 --                        --\n",
              "├─Linear (fc7_b): 1-27                   [1, 4096]                 [1, 2048]                 8,390,656                 --\n",
              "├─Dropout (dropout): 1-28                [1, 2048]                 [1, 2048]                 --                        --\n",
              "├─Linear (fc8): 1-29                     [1, 4096]                 [1, 1000]                 4,097,000                 --\n",
              "============================================================================================================================================\n",
              "Total params: 60,965,224\n",
              "Trainable params: 60,965,224\n",
              "Non-trainable params: 0\n",
              "Total mult-adds (M): 725.07\n",
              "============================================================================================================================================\n",
              "Input size (MB): 0.62\n",
              "Forward/backward pass size (MB): 5.27\n",
              "Params size (MB): 243.86\n",
              "Estimated Total Size (MB): 249.75\n",
              "============================================================================================================================================"
            ]
          },
          "execution_count": 13,
          "metadata": {},
          "output_type": "execute_result"
        }
      ],
      "source": [
        "# AlexNet 논문과 최대한 유사하게 구현\n",
        "class AlexNetForCIFAR10(nn.Module):\n",
        "    def __init__(self):\n",
        "        super(AlexNetForCIFAR10, self).__init__()\n",
        "        self.lrn = nn.LocalResponseNorm(LRN_N, alpha=LRN_ALPHA, beta=LRN_BETA, k=LRN_K)\n",
        "        self.dropout = nn.Dropout(DROPOUT)\n",
        "\n",
        "        self.conv1_a = nn.Conv2d(3, 48, kernel_size=11, stride=4, padding=0)\n",
        "        self.conv1_b = nn.Conv2d(3, 48, kernel_size=11, stride=4, padding=0)\n",
        "        self.pool1 = nn.MaxPool2d(kernel_size=3, stride=2)\n",
        "\n",
        "        self.conv2_a = nn.Conv2d(48, 128, kernel_size=5, stride=1, padding=2)\n",
        "        self.conv2_b = nn.Conv2d(48, 128, kernel_size=5, stride=1, padding=2)\n",
        "        self.pool2 = nn.MaxPool2d(kernel_size=3, stride=2)\n",
        "\n",
        "        self.conv3_a = nn.Conv2d(128 * 2, 192, kernel_size=3, stride=1, padding=1)\n",
        "        self.conv3_b = nn.Conv2d(128 * 2, 192, kernel_size=3, stride=1, padding=1)\n",
        "\n",
        "        self.conv4_a = nn.Conv2d(192, 192, kernel_size=3, stride=1, padding=1)\n",
        "        self.conv4_b = nn.Conv2d(192, 192, kernel_size=3, stride=1, padding=1)\n",
        "\n",
        "        self.conv5_a = nn.Conv2d(192, 128, kernel_size=3, stride=1, padding=1)\n",
        "        self.conv5_b = nn.Conv2d(192, 128, kernel_size=3, stride=1, padding=1)\n",
        "        self.pool5 = nn.MaxPool2d(kernel_size=3, stride=2)\n",
        "\n",
        "        self.fc6_a = nn.Linear(128 * 6 * 6 * 2, 2048)\n",
        "        self.fc6_b = nn.Linear(128 * 6 * 6 * 2, 2048)\n",
        "\n",
        "        self.fc7_a = nn.Linear(2048 * 2, 2048)\n",
        "        self.fc7_b = nn.Linear(2048 * 2, 2048)\n",
        "\n",
        "        self.fc8 = nn.Linear(2048 * 2, NUM_CLASSES)\n",
        "\n",
        "    def forward(self, x):\n",
        "        # Conv 1\n",
        "        x_a = self.lrn(F.relu(self.conv1_a(x)))\n",
        "        x_b = self.lrn(F.relu(self.conv1_b(x)))\n",
        "        x_a = self.pool1(x_a)\n",
        "        x_b = self.pool1(x_b)\n",
        "\n",
        "        # Conv 2\n",
        "        x_a = self.lrn(F.relu(self.conv2_a(x_a)))\n",
        "        x_b = self.lrn(F.relu(self.conv2_b(x_b)))\n",
        "        x_a = self.pool2(x_a)\n",
        "        x_b = self.pool2(x_b)\n",
        "\n",
        "        # Conv 3, GPU 데이터 합치고 각각 연산 수행\n",
        "        x = torch.cat((x_a, x_b), dim=1)\n",
        "        x_a = F.relu(self.conv3_a(x))\n",
        "        x_b = F.relu(self.conv3_b(x))\n",
        "\n",
        "        # Conv 4\n",
        "        x_a = F.relu(self.conv4_a(x_a))\n",
        "        x_b = F.relu(self.conv4_b(x_b))\n",
        "\n",
        "        # Conv 5\n",
        "        x_a = F.relu(self.conv5_a(x_a))\n",
        "        x_b = F.relu(self.conv5_b(x_b))\n",
        "        x_a = self.pool5(x_a)\n",
        "        x_b = self.pool5(x_b)\n",
        "\n",
        "        # FC 6, GPU 데이터 합치고 각각 연산 수행\n",
        "        x = torch.cat((x_a, x_b), dim=1)\n",
        "        x = x.view(x.size(0), -1)\n",
        "        x_a = self.dropout(F.relu(self.fc6_a(x)))\n",
        "        x_b = self.dropout(F.relu(self.fc6_b(x)))\n",
        "\n",
        "        # FC 7, GPU 데이터 합치고 각각 연산 수행\n",
        "        x = torch.cat((x_a, x_b), dim=1)\n",
        "        x_a = self.dropout(F.relu(self.fc7_a(x)))\n",
        "        x_b = self.dropout(F.relu(self.fc7_b(x)))\n",
        "\n",
        "        # FC 8, GPU 데이터 합쳐서 최종 연산\n",
        "        x = torch.cat((x_a, x_b), dim=1)\n",
        "        logits = self.fc8(x)\n",
        "\n",
        "        return logits\n",
        "\n",
        "\n",
        "torchinfo.summary(\n",
        "    AlexNetForCIFAR10(),\n",
        "    input_size=(1, 3, IMG_SIZE, IMG_SIZE),\n",
        "    col_names=[\"input_size\", \"output_size\", \"num_params\", \"kernel_size\"],\n",
        "    row_settings=[\"depth\", \"var_names\"],\n",
        ")"
      ]
    },
    {
      "cell_type": "code",
      "execution_count": 11,
      "metadata": {},
      "outputs": [
        {
          "name": "stdout",
          "output_type": "stream",
          "text": [
            "Downloading http://yann.lecun.com/exdb/mnist/train-images-idx3-ubyte.gz\n",
            "Failed to download (trying next):\n",
            "HTTP Error 403: Forbidden\n",
            "\n",
            "Downloading https://ossci-datasets.s3.amazonaws.com/mnist/train-images-idx3-ubyte.gz\n",
            "Failed to download (trying next):\n",
            "<urlopen error [SSL: CERTIFICATE_VERIFY_FAILED] certificate verify failed: unable to get local issuer certificate (_ssl.c:1007)>\n",
            "\n"
          ]
        },
        {
          "ename": "RuntimeError",
          "evalue": "Error downloading train-images-idx3-ubyte.gz",
          "output_type": "error",
          "traceback": [
            "\u001b[0;31m---------------------------------------------------------------------------\u001b[0m",
            "\u001b[0;31mRuntimeError\u001b[0m                              Traceback (most recent call last)",
            "Cell \u001b[0;32mIn[11], line 5\u001b[0m\n\u001b[1;32m      2\u001b[0m transform \u001b[38;5;241m=\u001b[39m transforms\u001b[38;5;241m.\u001b[39mCompose([transforms\u001b[38;5;241m.\u001b[39mResize((\u001b[38;5;241m32\u001b[39m, \u001b[38;5;241m32\u001b[39m)), transforms\u001b[38;5;241m.\u001b[39mToTensor()])\n\u001b[1;32m      4\u001b[0m \u001b[38;5;66;03m# 데이터셋 다운로드 및 생성\u001b[39;00m\n\u001b[0;32m----> 5\u001b[0m train_dataset \u001b[38;5;241m=\u001b[39m \u001b[43mdatasets\u001b[49m\u001b[38;5;241;43m.\u001b[39;49m\u001b[43mMNIST\u001b[49m\u001b[43m(\u001b[49m\n\u001b[1;32m      6\u001b[0m \u001b[43m    \u001b[49m\u001b[43mroot\u001b[49m\u001b[38;5;241;43m=\u001b[39;49m\u001b[38;5;124;43m\"\u001b[39;49m\u001b[38;5;124;43mmnist_data\u001b[39;49m\u001b[38;5;124;43m\"\u001b[39;49m\u001b[43m,\u001b[49m\u001b[43m \u001b[49m\u001b[43mtrain\u001b[49m\u001b[38;5;241;43m=\u001b[39;49m\u001b[38;5;28;43;01mTrue\u001b[39;49;00m\u001b[43m,\u001b[49m\u001b[43m \u001b[49m\u001b[43mtransform\u001b[49m\u001b[38;5;241;43m=\u001b[39;49m\u001b[43mtransform\u001b[49m\u001b[43m,\u001b[49m\u001b[43m \u001b[49m\u001b[43mdownload\u001b[49m\u001b[38;5;241;43m=\u001b[39;49m\u001b[38;5;28;43;01mTrue\u001b[39;49;00m\n\u001b[1;32m      7\u001b[0m \u001b[43m)\u001b[49m\n\u001b[1;32m      9\u001b[0m valid_dataset \u001b[38;5;241m=\u001b[39m datasets\u001b[38;5;241m.\u001b[39mMNIST(root\u001b[38;5;241m=\u001b[39m\u001b[38;5;124m\"\u001b[39m\u001b[38;5;124mmnist_data\u001b[39m\u001b[38;5;124m\"\u001b[39m, train\u001b[38;5;241m=\u001b[39m\u001b[38;5;28;01mFalse\u001b[39;00m, transform\u001b[38;5;241m=\u001b[39mtransform)\n\u001b[1;32m     11\u001b[0m \u001b[38;5;66;03m# 데이터 로더 정의\u001b[39;00m\n",
            "File \u001b[0;32m/goinfre/michang/CV_Sys_DL/myenv/lib/python3.10/site-packages/torchvision/datasets/mnist.py:99\u001b[0m, in \u001b[0;36mMNIST.__init__\u001b[0;34m(self, root, train, transform, target_transform, download)\u001b[0m\n\u001b[1;32m     96\u001b[0m     \u001b[38;5;28;01mreturn\u001b[39;00m\n\u001b[1;32m     98\u001b[0m \u001b[38;5;28;01mif\u001b[39;00m download:\n\u001b[0;32m---> 99\u001b[0m     \u001b[38;5;28;43mself\u001b[39;49m\u001b[38;5;241;43m.\u001b[39;49m\u001b[43mdownload\u001b[49m\u001b[43m(\u001b[49m\u001b[43m)\u001b[49m\n\u001b[1;32m    101\u001b[0m \u001b[38;5;28;01mif\u001b[39;00m \u001b[38;5;129;01mnot\u001b[39;00m \u001b[38;5;28mself\u001b[39m\u001b[38;5;241m.\u001b[39m_check_exists():\n\u001b[1;32m    102\u001b[0m     \u001b[38;5;28;01mraise\u001b[39;00m \u001b[38;5;167;01mRuntimeError\u001b[39;00m(\u001b[38;5;124m\"\u001b[39m\u001b[38;5;124mDataset not found. You can use download=True to download it\u001b[39m\u001b[38;5;124m\"\u001b[39m)\n",
            "File \u001b[0;32m/goinfre/michang/CV_Sys_DL/myenv/lib/python3.10/site-packages/torchvision/datasets/mnist.py:195\u001b[0m, in \u001b[0;36mMNIST.download\u001b[0;34m(self)\u001b[0m\n\u001b[1;32m    193\u001b[0m     \u001b[38;5;28;01mbreak\u001b[39;00m\n\u001b[1;32m    194\u001b[0m \u001b[38;5;28;01melse\u001b[39;00m:\n\u001b[0;32m--> 195\u001b[0m     \u001b[38;5;28;01mraise\u001b[39;00m \u001b[38;5;167;01mRuntimeError\u001b[39;00m(\u001b[38;5;124mf\u001b[39m\u001b[38;5;124m\"\u001b[39m\u001b[38;5;124mError downloading \u001b[39m\u001b[38;5;132;01m{\u001b[39;00mfilename\u001b[38;5;132;01m}\u001b[39;00m\u001b[38;5;124m\"\u001b[39m)\n",
            "\u001b[0;31mRuntimeError\u001b[0m: Error downloading train-images-idx3-ubyte.gz"
          ]
        }
      ],
      "source": [
        "# transforms 정의하기\n",
        "transform = transforms.Compose([transforms.Resize((32, 32)), transforms.ToTensor()])\n",
        "\n",
        "# 데이터셋 다운로드 및 생성\n",
        "train_dataset = datasets.MNIST(\n",
        "    root=\"mnist_data\", train=True, transform=transform, download=True\n",
        ")\n",
        "\n",
        "valid_dataset = datasets.MNIST(root=\"mnist_data\", train=False, transform=transform)\n",
        "\n",
        "# 데이터 로더 정의\n",
        "train_loader = DataLoader(dataset=train_dataset, batch_size=BATCH_SIZE, shuffle=True)\n",
        "\n",
        "valid_loader = DataLoader(dataset=valid_dataset, batch_size=BATCH_SIZE, shuffle=False)\n",
        "\n",
        "# 불러온 MNIST 데이터 확인\n",
        "ROW_IMG = 10\n",
        "N_ROWS = 5\n",
        "\n",
        "fig = plt.figure()\n",
        "for index in range(1, ROW_IMG * N_ROWS + 1):\n",
        "    plt.subplot(N_ROWS, ROW_IMG, index)\n",
        "    plt.axis(\"off\")\n",
        "    plt.imshow(train_dataset.data[index], cmap=\"gray_r\")\n",
        "\n",
        "fig.suptitle(\"MNIST Dataset - preview\")\n",
        "\n",
        "# 데이터셋 크기 출력\n",
        "print(f\"Train dataset size: {len(train_dataset)}\")  # Train dataset size: 60000\n",
        "print(\n",
        "    f\"Validation dataset size: {len(valid_dataset)}\"\n",
        ")  # Validation dataset size: 10000"
      ]
    },
    {
      "cell_type": "code",
      "execution_count": 12,
      "metadata": {},
      "outputs": [
        {
          "ename": "NameError",
          "evalue": "name 'RealLeNet5' is not defined",
          "output_type": "error",
          "traceback": [
            "\u001b[0;31m---------------------------------------------------------------------------\u001b[0m",
            "\u001b[0;31mNameError\u001b[0m                                 Traceback (most recent call last)",
            "Cell \u001b[0;32mIn[12], line 3\u001b[0m\n\u001b[1;32m      1\u001b[0m torch\u001b[38;5;241m.\u001b[39mmanual_seed(RANDOM_SEED)\n\u001b[0;32m----> 3\u001b[0m model \u001b[38;5;241m=\u001b[39m \u001b[43mRealLeNet5\u001b[49m(NUM_CLASSES)\u001b[38;5;241m.\u001b[39mto(DEVICE)\n\u001b[1;32m      4\u001b[0m optimizer \u001b[38;5;241m=\u001b[39m torch\u001b[38;5;241m.\u001b[39moptim\u001b[38;5;241m.\u001b[39mAdam(model\u001b[38;5;241m.\u001b[39mparameters(), lr\u001b[38;5;241m=\u001b[39mlr_schedule(\u001b[38;5;241m0\u001b[39m))\n\u001b[1;32m      5\u001b[0m criterion \u001b[38;5;241m=\u001b[39m nn\u001b[38;5;241m.\u001b[39mCrossEntropyLoss()\n",
            "\u001b[0;31mNameError\u001b[0m: name 'RealLeNet5' is not defined"
          ]
        }
      ],
      "source": [
        "torch.manual_seed(RANDOM_SEED)\n",
        "\n",
        "model = AlexNet().to(DEVICE)\n",
        "optimizer = torch.optim.Adam(model.parameters(), lr=LEARNING_RATE)\n",
        "criterion = nn.CrossEntropyLoss()\n",
        "\n",
        "model, optimizer, _ = training_loop(\n",
        "    model, criterion, optimizer, train_loader, valid_loader, EPOCHS, DEVICE\n",
        ")"
      ]
    },
    {
      "cell_type": "code",
      "execution_count": null,
      "metadata": {},
      "outputs": [],
      "source": []
    }
  ],
  "metadata": {
    "accelerator": "GPU",
    "colab": {
      "gpuType": "T4",
      "provenance": []
    },
    "kernelspec": {
      "display_name": "Python 3",
      "name": "python3"
    },
    "language_info": {
      "codemirror_mode": {
        "name": "ipython",
        "version": 3
      },
      "file_extension": ".py",
      "mimetype": "text/x-python",
      "name": "python",
      "nbconvert_exporter": "python",
      "pygments_lexer": "ipython3",
      "version": "3.10.11"
    }
  },
  "nbformat": 4,
  "nbformat_minor": 0
}
