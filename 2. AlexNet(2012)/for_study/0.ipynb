{
  "cells": [
    {
      "cell_type": "code",
      "execution_count": 1,
      "metadata": {
        "colab": {
          "base_uri": "https://localhost:8080/"
        },
        "execution": {
          "iopub.execute_input": "2024-07-04T06:21:11.223814Z",
          "iopub.status.busy": "2024-07-04T06:21:11.223001Z",
          "iopub.status.idle": "2024-07-04T06:21:26.605783Z",
          "shell.execute_reply": "2024-07-04T06:21:26.604694Z",
          "shell.execute_reply.started": "2024-07-04T06:21:11.223782Z"
        },
        "id": "FRIFM8NxApR8",
        "outputId": "6e683a05-055c-4188-8ecc-7c710d8dbecc",
        "trusted": true
      },
      "outputs": [
        {
          "name": "stdout",
          "output_type": "stream",
          "text": [
            "Collecting torchinfo\n",
            "  Downloading torchinfo-1.8.0-py3-none-any.whl (23 kB)\n",
            "Installing collected packages: torchinfo\n",
            "Successfully installed torchinfo-1.8.0\n",
            "Fri Jul  5 03:50:42 2024       \n",
            "+---------------------------------------------------------------------------------------+\n",
            "| NVIDIA-SMI 535.104.05             Driver Version: 535.104.05   CUDA Version: 12.2     |\n",
            "|-----------------------------------------+----------------------+----------------------+\n",
            "| GPU  Name                 Persistence-M | Bus-Id        Disp.A | Volatile Uncorr. ECC |\n",
            "| Fan  Temp   Perf          Pwr:Usage/Cap |         Memory-Usage | GPU-Util  Compute M. |\n",
            "|                                         |                      |               MIG M. |\n",
            "|=========================================+======================+======================|\n",
            "|   0  Tesla T4                       Off | 00000000:00:04.0 Off |                    0 |\n",
            "| N/A   40C    P8               9W /  70W |      0MiB / 15360MiB |      0%      Default |\n",
            "|                                         |                      |                  N/A |\n",
            "+-----------------------------------------+----------------------+----------------------+\n",
            "                                                                                         \n",
            "+---------------------------------------------------------------------------------------+\n",
            "| Processes:                                                                            |\n",
            "|  GPU   GI   CI        PID   Type   Process name                            GPU Memory |\n",
            "|        ID   ID                                                             Usage      |\n",
            "|=======================================================================================|\n",
            "|  No running processes found                                                           |\n",
            "+---------------------------------------------------------------------------------------+\n"
          ]
        }
      ],
      "source": [
        "!pip install torchinfo\n",
        "!nvidia-smi"
      ]
    },
    {
      "cell_type": "code",
      "execution_count": 2,
      "metadata": {
        "execution": {
          "iopub.execute_input": "2024-07-04T06:21:33.948717Z",
          "iopub.status.busy": "2024-07-04T06:21:33.948373Z",
          "iopub.status.idle": "2024-07-04T06:21:38.872759Z",
          "shell.execute_reply": "2024-07-04T06:21:38.871697Z",
          "shell.execute_reply.started": "2024-07-04T06:21:33.948690Z"
        },
        "id": "w-H7jVy6TZjG",
        "trusted": true
      },
      "outputs": [],
      "source": [
        "# import\n",
        "\n",
        "import numpy as np\n",
        "from datetime import datetime\n",
        "import torch\n",
        "import torch.nn as nn\n",
        "import torch.nn.functional as F\n",
        "from torch.utils.data import DataLoader, random_split, ConcatDataset\n",
        "from torchvision import transforms\n",
        "from torchvision import datasets\n",
        "import matplotlib.pyplot as plt\n",
        "import torchinfo\n",
        "import os\n",
        "from pytz import timezone\n",
        "from tqdm import tqdm\n",
        "\n",
        "os.environ[\"CUDA_DEVICE_ORDER\"]=\"PCI_BUS_ID\"\n",
        "os.environ[\"CUDA_VISIBLE_DEVICES\"]= \"0,1\"\n",
        "\n",
        "DEVICE = torch.device(\"cuda\" if torch.cuda.is_available() else \"cpu\")\n",
        "print('Device:', DEVICE)  # 출력결과: cuda \n",
        "print('Count of using GPUs:', torch.cuda.device_count())\n",
        "print('Current cuda device:', torch.cuda.current_device())"
      ]
    },
    {
      "cell_type": "code",
      "execution_count": 3,
      "metadata": {
        "execution": {
          "iopub.execute_input": "2024-07-04T06:23:34.711022Z",
          "iopub.status.busy": "2024-07-04T06:23:34.710348Z",
          "iopub.status.idle": "2024-07-04T06:23:34.716254Z",
          "shell.execute_reply": "2024-07-04T06:23:34.715112Z",
          "shell.execute_reply.started": "2024-07-04T06:23:34.710992Z"
        },
        "id": "OLzGmT0HTZjJ",
        "trusted": true
      },
      "outputs": [],
      "source": [
        "# 하이퍼파라미터 설정\n",
        "RANDOM_SEED = 4242\n",
        "LEARNING_RATE = 0.0001\n",
        "BATCH_SIZE = 45\n",
        "EPOCHS = 90\n",
        "IMG_SIZE = 227\n",
        "NUM_CLASSES = 10\n",
        "\n",
        "# 규제화 파라미터 설정\n",
        "DROPOUT = 0.5\n",
        "LRN_K = 2.0\n",
        "LRN_ALPHA = 0.0001\n",
        "LRN_BETA = 0.75\n",
        "LRN_N = 5"
      ]
    },
    {
      "cell_type": "code",
      "execution_count": 4,
      "metadata": {
        "execution": {
          "iopub.execute_input": "2024-07-04T06:23:35.185908Z",
          "iopub.status.busy": "2024-07-04T06:23:35.184870Z",
          "iopub.status.idle": "2024-07-04T06:23:35.192428Z",
          "shell.execute_reply": "2024-07-04T06:23:35.191498Z",
          "shell.execute_reply.started": "2024-07-04T06:23:35.185875Z"
        },
        "id": "GqQG1MxKTZjJ",
        "trusted": true
      },
      "outputs": [],
      "source": [
        "# 모델의 정확도를 계산하는 함수\n",
        "def get_accuracy(model, data_loader, device):\n",
        "    correct_predictions = 0\n",
        "    total_predictions = 0\n",
        "    with torch.no_grad():\n",
        "        model.eval()\n",
        "        for images, labels in data_loader:\n",
        "            images = images.to(device)\n",
        "            labels = labels.to(device)\n",
        "            probabilities = F.softmax(model(images), dim=-1)\n",
        "            _, predicted_labels = torch.max(probabilities, 1)\n",
        "\n",
        "            total_predictions += labels.size(0)\n",
        "            correct_predictions += (predicted_labels == labels).sum()\n",
        "    return correct_predictions.float() / total_predictions"
      ]
    },
    {
      "cell_type": "code",
      "execution_count": 5,
      "metadata": {
        "execution": {
          "iopub.execute_input": "2024-07-04T06:23:35.715522Z",
          "iopub.status.busy": "2024-07-04T06:23:35.714606Z",
          "iopub.status.idle": "2024-07-04T06:23:35.721848Z",
          "shell.execute_reply": "2024-07-04T06:23:35.720859Z",
          "shell.execute_reply.started": "2024-07-04T06:23:35.715486Z"
        },
        "id": "iJfn7YN0TZjJ",
        "trusted": true
      },
      "outputs": [],
      "source": [
        "# 학습 손실과 검증 손실을 시각화\n",
        "def plot_loss(train_loss, val_loss):\n",
        "    plt.style.use(\"grayscale\")\n",
        "    train_loss = np.array(train_loss)\n",
        "    val_loss = np.array(val_loss)\n",
        "    fig, ax = plt.subplots(1, 1, figsize=(8, 4.5))\n",
        "    ax.plot(train_loss, color=\"green\", label=\"Training Loss\")\n",
        "    ax.plot(val_loss, color=\"red\", label=\"Validation Loss\")\n",
        "    ax.set(title=\"Loss Over Epochs\", xlabel=\"EPOCH\", ylabel=\"LOSS\")\n",
        "    ax.legend()\n",
        "    fig.show()\n",
        "    plt.style.use(\"default\")"
      ]
    },
    {
      "cell_type": "code",
      "execution_count": 6,
      "metadata": {
        "execution": {
          "iopub.execute_input": "2024-07-04T06:23:36.183723Z",
          "iopub.status.busy": "2024-07-04T06:23:36.183319Z",
          "iopub.status.idle": "2024-07-04T06:23:36.191117Z",
          "shell.execute_reply": "2024-07-04T06:23:36.190184Z",
          "shell.execute_reply.started": "2024-07-04T06:23:36.183694Z"
        },
        "id": "NGJjH-4QTZjK",
        "trusted": true
      },
      "outputs": [],
      "source": [
        "# 모델 학습 함수\n",
        "def train(train_loader, model, criterion, optimizer, device):\n",
        "    model.train()\n",
        "    total_loss = 0\n",
        "    for images, labels in train_loader:\n",
        "        optimizer.zero_grad()\n",
        "        images = images.to(device)\n",
        "        labels = labels.to(device)\n",
        "        logits = model(images)\n",
        "        loss = criterion(logits, labels)\n",
        "        total_loss += loss.item() * images.size(0)\n",
        "        loss.backward()\n",
        "        optimizer.step()\n",
        "    epoch_loss = total_loss / len(train_loader.dataset)\n",
        "    return model, optimizer, epoch_loss"
      ]
    },
    {
      "cell_type": "code",
      "execution_count": 7,
      "metadata": {
        "execution": {
          "iopub.execute_input": "2024-07-04T06:23:36.738644Z",
          "iopub.status.busy": "2024-07-04T06:23:36.738270Z",
          "iopub.status.idle": "2024-07-04T06:23:36.745407Z",
          "shell.execute_reply": "2024-07-04T06:23:36.744285Z",
          "shell.execute_reply.started": "2024-07-04T06:23:36.738614Z"
        },
        "id": "8z8T2ZilTZjK",
        "trusted": true
      },
      "outputs": [],
      "source": [
        "# 검증 데이터셋을 사용하여 모델의 성능을 평가\n",
        "def validate(valid_loader, model, criterion, device):\n",
        "    model.eval()\n",
        "    total_loss = 0\n",
        "\n",
        "    for images, labels in valid_loader:\n",
        "        images = images.to(device)\n",
        "        labels = labels.to(device)\n",
        "\n",
        "        # 순전파와 손실 기록하기\n",
        "        logits = model(images)\n",
        "        loss = criterion(logits, labels)\n",
        "        total_loss += loss.item() * images.size(0)\n",
        "\n",
        "    epoch_loss = total_loss / len(valid_loader.dataset)\n",
        "    return model, epoch_loss"
      ]
    },
    {
      "cell_type": "code",
      "execution_count": 8,
      "metadata": {
        "execution": {
          "iopub.execute_input": "2024-07-04T06:23:37.184417Z",
          "iopub.status.busy": "2024-07-04T06:23:37.183796Z",
          "iopub.status.idle": "2024-07-04T06:23:37.193321Z",
          "shell.execute_reply": "2024-07-04T06:23:37.192371Z",
          "shell.execute_reply.started": "2024-07-04T06:23:37.184381Z"
        },
        "id": "FbXy9bZKTZjK",
        "trusted": true
      },
      "outputs": [],
      "source": [
        "def training_loop(\n",
        "    model,\n",
        "    criterion,\n",
        "    optimizer,\n",
        "    train_loader,\n",
        "    valid_loader,\n",
        "    epochs,\n",
        "    device,\n",
        "    print_every=1,\n",
        "):\n",
        "    train_losses = []\n",
        "    valid_losses = []\n",
        "    print(\n",
        "        datetime.now(timezone(\"Asia/Seoul\")).time().replace(microsecond=0),\n",
        "        \"--- Start Training Loop ---\",\n",
        "    )\n",
        "\n",
        "    for epoch in range(epochs):\n",
        "        # training\n",
        "        model.train()\n",
        "        running_loss = 0.0\n",
        "        train_loader_tqdm = tqdm(train_loader, desc=f\"Epoch {epoch + 1}/{epochs}\", leave=False)\n",
        "        for inputs, labels in train_loader_tqdm:\n",
        "            inputs, labels = inputs.to(device), labels.to(device)\n",
        "            \n",
        "            optimizer.zero_grad()\n",
        "            outputs = model(inputs)\n",
        "            loss = criterion(outputs, labels)\n",
        "            loss.backward()\n",
        "            optimizer.step()\n",
        "            \n",
        "            running_loss += loss.item() * inputs.size(0)\n",
        "        \n",
        "        train_loss = running_loss / len(train_loader.dataset)\n",
        "        train_losses.append(train_loss)\n",
        "\n",
        "        # validation\n",
        "        model.eval()\n",
        "        running_loss = 0.0\n",
        "        valid_loader_tqdm = tqdm(valid_loader, desc=f\"Validation {epoch + 1}/{epochs}\", leave=False)\n",
        "        with torch.no_grad():\n",
        "            for inputs, labels in valid_loader_tqdm:\n",
        "                inputs, labels = inputs.to(device), labels.to(device)\n",
        "                outputs = model(inputs)\n",
        "                loss = criterion(outputs, labels)\n",
        "                running_loss += loss.item() * inputs.size(0)\n",
        "        \n",
        "        valid_loss = running_loss / len(valid_loader.dataset)\n",
        "        valid_losses.append(valid_loss)\n",
        "\n",
        "        if epoch % print_every == (print_every - 1):\n",
        "\n",
        "            train_acc = get_accuracy(model, train_loader, device=device)\n",
        "            valid_acc = get_accuracy(model, valid_loader, device=device)\n",
        "\n",
        "            print(\n",
        "                datetime.now(timezone(\"Asia/Seoul\")).time().replace(microsecond=0),\n",
        "                \"--- \",\n",
        "                f\"Epoch: {epoch + 1}\\t\"\n",
        "                f\"Train loss: {train_loss:.4f}\\t\"\n",
        "                f\"Valid loss: {valid_loss:.4f}\\t\"\n",
        "                f\"Train accuracy: {100 * train_acc:.2f}\\t\"\n",
        "                f\"Valid accuracy: {100 * valid_acc:.2f}\",\n",
        "            )\n",
        "\n",
        "    plot_loss(train_losses, valid_losses)\n",
        "\n",
        "    return model, optimizer, (train_losses, valid_losses)"
      ]
    },
    {
      "cell_type": "code",
      "execution_count": 9,
      "metadata": {
        "colab": {
          "base_uri": "https://localhost:8080/"
        },
        "execution": {
          "iopub.execute_input": "2024-07-04T06:23:37.924590Z",
          "iopub.status.busy": "2024-07-04T06:23:37.923693Z",
          "iopub.status.idle": "2024-07-04T06:23:38.581103Z",
          "shell.execute_reply": "2024-07-04T06:23:38.580176Z",
          "shell.execute_reply.started": "2024-07-04T06:23:37.924558Z"
        },
        "id": "3PdseEJ1TZjL",
        "outputId": "d981adee-5018-4d44-b87d-d603175d2676",
        "trusted": true
      },
      "outputs": [
        {
          "data": {
            "text/plain": [
              "============================================================================================================================================\n",
              "Layer (type (var_name):depth-idx)        Input Shape               Output Shape              Param #                   Kernel Shape\n",
              "============================================================================================================================================\n",
              "ModernAlexNet (ModernAlexNet)            [1, 3, 227, 227]          [1, 10]                   --                        --\n",
              "├─Conv2d (conv1): 1-1                    [1, 3, 227, 227]          [1, 96, 55, 55]           34,944                    [11, 11]\n",
              "├─MaxPool2d (pool): 1-2                  [1, 96, 55, 55]           [1, 96, 27, 27]           --                        3\n",
              "├─BatchNorm2d (batchnorm1): 1-3          [1, 96, 27, 27]           [1, 96, 27, 27]           192                       --\n",
              "├─Conv2d (conv2): 1-4                    [1, 96, 27, 27]           [1, 256, 27, 27]          614,656                   [5, 5]\n",
              "├─MaxPool2d (pool): 1-5                  [1, 256, 27, 27]          [1, 256, 13, 13]          --                        3\n",
              "├─BatchNorm2d (batchnorm2): 1-6          [1, 256, 13, 13]          [1, 256, 13, 13]          512                       --\n",
              "├─Conv2d (conv3): 1-7                    [1, 256, 13, 13]          [1, 384, 13, 13]          885,120                   [3, 3]\n",
              "├─BatchNorm2d (batchnorm3): 1-8          [1, 384, 13, 13]          [1, 384, 13, 13]          768                       --\n",
              "├─Conv2d (conv4): 1-9                    [1, 384, 13, 13]          [1, 384, 13, 13]          1,327,488                 [3, 3]\n",
              "├─BatchNorm2d (batchnorm4): 1-10         [1, 384, 13, 13]          [1, 384, 13, 13]          768                       --\n",
              "├─Conv2d (conv5): 1-11                   [1, 384, 13, 13]          [1, 256, 13, 13]          884,992                   [3, 3]\n",
              "├─BatchNorm2d (batchnorm5): 1-12         [1, 256, 13, 13]          [1, 256, 13, 13]          512                       --\n",
              "├─MaxPool2d (pool): 1-13                 [1, 256, 13, 13]          [1, 256, 6, 6]            --                        3\n",
              "├─Linear (fc6): 1-14                     [1, 9216]                 [1, 4096]                 37,752,832                --\n",
              "├─Dropout (dropout): 1-15                [1, 4096]                 [1, 4096]                 --                        --\n",
              "├─Linear (fc7): 1-16                     [1, 4096]                 [1, 4096]                 16,781,312                --\n",
              "├─Dropout (dropout): 1-17                [1, 4096]                 [1, 4096]                 --                        --\n",
              "├─Linear (fc8): 1-18                     [1, 4096]                 [1, 10]                   40,970                    --\n",
              "============================================================================================================================================\n",
              "Total params: 58,325,066\n",
              "Trainable params: 58,325,066\n",
              "Non-trainable params: 0\n",
              "Total mult-adds (G): 1.13\n",
              "============================================================================================================================================\n",
              "Input size (MB): 0.62\n",
              "Forward/backward pass size (MB): 7.56\n",
              "Params size (MB): 233.30\n",
              "Estimated Total Size (MB): 241.48\n",
              "============================================================================================================================================"
            ]
          },
          "execution_count": 9,
          "metadata": {},
          "output_type": "execute_result"
        }
      ],
      "source": [
        "# AlexNet 현대적으로 재해석한 책에서 제시된 버전으로 구현 (multi-GPU 구현하지 않음, 배치정규화 차용)\n",
        "class ModernAlexNet(nn.Module):\n",
        "    def __init__(self):\n",
        "        super(ModernAlexNet, self).__init__()\n",
        "        self.pool = nn.MaxPool2d(kernel_size=3, stride=2)\n",
        "        self.dropout = nn.Dropout(DROPOUT)\n",
        "\n",
        "        self.conv1 = nn.Conv2d(in_channels=3, out_channels=96, kernel_size=11, stride=4, padding=0)\n",
        "        self.batchnorm1 = nn.BatchNorm2d(96)\n",
        "        self.conv2 = nn.Conv2d(in_channels=96, out_channels=256, kernel_size=5, stride=1, padding=2)\n",
        "        self.batchnorm2 = nn.BatchNorm2d(256)\n",
        "        self.conv3 = nn.Conv2d(in_channels=256, out_channels=384, kernel_size=3, stride=1, padding=1)\n",
        "        self.batchnorm3 = nn.BatchNorm2d(384)\n",
        "        self.conv4 = nn.Conv2d(in_channels=384, out_channels=384, kernel_size=3, stride=1, padding=1)\n",
        "        self.batchnorm4 = nn.BatchNorm2d(384)\n",
        "        self.conv5 = nn.Conv2d(in_channels=384, out_channels=256, kernel_size=3, stride=1, padding=1)\n",
        "        self.batchnorm5 = nn.BatchNorm2d(256)\n",
        "        self.fc6 = nn.Linear(6 * 6 * 256, 4096)\n",
        "        self.fc7 = nn.Linear(4096, 4096)\n",
        "        self.fc8 = nn.Linear(4096, NUM_CLASSES)\n",
        "\n",
        "    def forward(self, x):\n",
        "        # Conv 1\n",
        "        x = F.relu(self.conv1(x))\n",
        "        x = self.pool(x)\n",
        "        x = self.batchnorm1(x)\n",
        "        # Conv 2\n",
        "        x = F.relu(self.conv2(x))\n",
        "        x = self.pool(x)\n",
        "        x = self.batchnorm2(x)\n",
        "        # Conv 3\n",
        "        x = F.relu(self.conv3(x))\n",
        "        x = self.batchnorm3(x)\n",
        "        # Conv 4\n",
        "        x = F.relu(self.conv4(x))\n",
        "        x = self.batchnorm4(x)\n",
        "        # Conv 5\n",
        "        x = F.relu(self.conv5(x))\n",
        "        x = self.batchnorm5(x)\n",
        "        x = self.pool(x)\n",
        "        # FC 6\n",
        "        x = x.view(-1, 6 * 6 * 256)\n",
        "        x = F.relu(self.fc6(x))\n",
        "        x = self.dropout(x)\n",
        "        # FC 7\n",
        "        x = F.relu(self.fc7(x))\n",
        "        x = self.dropout(x)\n",
        "        # FC 8\n",
        "        logits = self.fc8(x)\n",
        "        return logits\n",
        "\n",
        "torchinfo.summary(\n",
        "    ModernAlexNet(),\n",
        "    input_size=(1, 3, IMG_SIZE, IMG_SIZE),\n",
        "    col_names=[\"input_size\", \"output_size\", \"num_params\", \"kernel_size\"],\n",
        "    row_settings=[\"depth\", \"var_names\"],\n",
        ")"
      ]
    },
    {
      "cell_type": "code",
      "execution_count": null,
      "metadata": {},
      "outputs": [],
      "source": [
        "# transforms 정의하기\n",
        "transform = transforms.Compose(\n",
        "    [\n",
        "        transforms.Resize((IMG_SIZE, IMG_SIZE)),\n",
        "        transforms.RandomHorizontalFlip(),  # 50% 확률로 수평 뒤집기\n",
        "        transforms.ToTensor(),\n",
        "    ]\n",
        ")\n",
        "\n",
        "\n",
        "# 데이터셋 다운로드 및 생성\n",
        "\n",
        "full_dataset = datasets.MNIST(root=\"cifar10_data\", train=True, transform=transform, download=True)\n",
        "full_dataset = ConcatDataset([full_dataset, datasets.MNIST(root=\"cifar10_data\", train=False, transform=transform)])\n",
        "                               \n",
        "total_size = len(full_dataset)\n",
        "\n",
        "train_size = int(0.7 * total_size)\n",
        "valid_size = int(0.15 * total_size)\n",
        "test_size = total_size - train_size - valid_size\n",
        "\n",
        "train_dataset, valid_dataset, test_dataset = random_split(full_dataset, [train_size, valid_size, test_size])\n",
        "\n",
        "# 데이터 로더 정의\n",
        "train_loader = DataLoader(dataset=train_dataset, batch_size=BATCH_SIZE, shuffle=True)\n",
        "valid_loader = DataLoader(dataset=valid_dataset, batch_size=BATCH_SIZE, shuffle=False)\n",
        "test_loader = DataLoader(dataset=test_dataset, batch_size=BATCH_SIZE, shuffle=False)\n",
        "\n",
        "# 불러온 MNIST 데이터 확인\n",
        "ROW_IMG = 10\n",
        "N_ROWS = 5\n",
        "\n",
        "fig = plt.figure()\n",
        "for index in range(1, ROW_IMG * N_ROWS + 1):\n",
        "    plt.subplot(N_ROWS, ROW_IMG, index)\n",
        "    plt.axis(\"off\")\n",
        "    plt.imshow(train_dataset.dataset[index][0].squeeze(), cmap=\"gray_r\")\n",
        "\n",
        "fig.suptitle(\"cifar10 Dataset\")\n",
        "\n",
        "# 데이터셋 크기 출력\n",
        "print(\"train dataset size: \", len(train_dataset))\n",
        "print(\"valid dataset size: \", len(valid_dataset))\n",
        "print(\"test dataset size: \", len(test_dataset))"
      ]
    },
    {
      "cell_type": "code",
      "execution_count": null,
      "metadata": {
        "colab": {
          "base_uri": "https://localhost:8080/"
        },
        "execution": {
          "iopub.execute_input": "2024-07-04T06:23:41.815400Z",
          "iopub.status.busy": "2024-07-04T06:23:41.814962Z",
          "iopub.status.idle": "2024-07-04T07:33:24.146719Z",
          "shell.execute_reply": "2024-07-04T07:33:24.145178Z",
          "shell.execute_reply.started": "2024-07-04T06:23:41.815367Z"
        },
        "id": "U2_D6RYoApSA",
        "outputId": "6bb74f43-7865-4a00-ab20-5b455d14fb30",
        "trusted": true
      },
      "outputs": [
        {
          "name": "stdout",
          "output_type": "stream",
          "text": [
            "12:54:58 ---  Epoch: 0\tTrain loss: 1.2574\tValid loss: 1.1059\tTrain accuracy: 61.41\tValid accuracy: 60.46\n",
            "12:58:05 ---  Epoch: 1\tTrain loss: 0.8290\tValid loss: 0.9076\tTrain accuracy: 70.38\tValid accuracy: 68.85\n",
            "13:01:14 ---  Epoch: 2\tTrain loss: 0.6816\tValid loss: 0.8394\tTrain accuracy: 74.35\tValid accuracy: 71.56\n",
            "13:04:24 ---  Epoch: 3\tTrain loss: 0.5829\tValid loss: 0.6359\tTrain accuracy: 81.56\tValid accuracy: 77.69\n",
            "13:07:39 ---  Epoch: 4\tTrain loss: 0.5053\tValid loss: 0.5318\tTrain accuracy: 86.64\tValid accuracy: 82.11\n",
            "13:10:52 ---  Epoch: 5\tTrain loss: 0.4425\tValid loss: 0.5015\tTrain accuracy: 88.11\tValid accuracy: 82.87\n",
            "13:14:04 ---  Epoch: 6\tTrain loss: 0.3772\tValid loss: 0.5217\tTrain accuracy: 88.54\tValid accuracy: 82.83\n",
            "13:17:16 ---  Epoch: 7\tTrain loss: 0.3394\tValid loss: 0.4563\tTrain accuracy: 91.91\tValid accuracy: 84.69\n",
            "13:21:34 ---  Epoch: 8\tTrain loss: 0.2962\tValid loss: 0.4550\tTrain accuracy: 93.28\tValid accuracy: 85.30\n",
            "13:26:04 ---  Epoch: 9\tTrain loss: 0.2582\tValid loss: 0.4405\tTrain accuracy: 94.24\tValid accuracy: 85.53\n",
            "13:30:05 ---  Epoch: 10\tTrain loss: 0.2309\tValid loss: 0.4547\tTrain accuracy: 95.22\tValid accuracy: 85.65\n",
            "13:33:19 ---  Epoch: 11\tTrain loss: 0.2017\tValid loss: 0.4466\tTrain accuracy: 96.59\tValid accuracy: 86.62\n",
            "13:36:32 ---  Epoch: 12\tTrain loss: 0.1795\tValid loss: 0.4393\tTrain accuracy: 96.65\tValid accuracy: 86.36\n",
            "13:39:42 ---  Epoch: 13\tTrain loss: 0.1552\tValid loss: 0.5404\tTrain accuracy: 95.14\tValid accuracy: 84.32\n",
            "13:42:52 ---  Epoch: 14\tTrain loss: 0.1560\tValid loss: 0.4737\tTrain accuracy: 97.13\tValid accuracy: 85.67\n",
            "13:46:01 ---  Epoch: 15\tTrain loss: 0.1365\tValid loss: 0.5115\tTrain accuracy: 97.18\tValid accuracy: 86.28\n",
            "13:49:11 ---  Epoch: 16\tTrain loss: 0.1247\tValid loss: 0.4959\tTrain accuracy: 97.59\tValid accuracy: 86.55\n",
            "13:53:35 ---  Epoch: 17\tTrain loss: 0.1169\tValid loss: 0.4824\tTrain accuracy: 98.07\tValid accuracy: 86.45\n",
            "13:58:30 ---  Epoch: 18\tTrain loss: 0.1110\tValid loss: 0.4936\tTrain accuracy: 98.77\tValid accuracy: 87.09\n",
            "14:02:11 ---  Epoch: 19\tTrain loss: 0.1048\tValid loss: 0.5016\tTrain accuracy: 98.60\tValid accuracy: 86.90\n",
            "14:05:23 ---  Epoch: 20\tTrain loss: 0.0942\tValid loss: 0.5173\tTrain accuracy: 98.71\tValid accuracy: 87.07\n",
            "14:08:34 ---  Epoch: 21\tTrain loss: 0.0939\tValid loss: 0.5042\tTrain accuracy: 98.72\tValid accuracy: 87.11\n"
          ]
        }
      ],
      "source": [
        "torch.manual_seed(RANDOM_SEED)\n",
        "\n",
        "model = ModernAlexNet().to(DEVICE)\n",
        "optimizer = torch.optim.Adam(model.parameters(), lr=LEARNING_RATE)\n",
        "criterion = nn.CrossEntropyLoss()\n",
        "\n",
        "model, optimizer, _ = training_loop(\n",
        "    model, criterion, optimizer, train_loader, valid_loader, EPOCHS, DEVICE\n",
        ")"
      ]
    }
  ],
  "metadata": {
    "accelerator": "GPU",
    "colab": {
      "gpuType": "T4",
      "provenance": []
    },
    "kaggle": {
      "accelerator": "nvidiaTeslaT4",
      "dataSources": [],
      "dockerImageVersionId": 30733,
      "isGpuEnabled": true,
      "isInternetEnabled": true,
      "language": "python",
      "sourceType": "notebook"
    },
    "kernelspec": {
      "display_name": "Python 3",
      "language": "python",
      "name": "python3"
    },
    "language_info": {
      "codemirror_mode": {
        "name": "ipython",
        "version": 3
      },
      "file_extension": ".py",
      "mimetype": "text/x-python",
      "name": "python",
      "nbconvert_exporter": "python",
      "pygments_lexer": "ipython3",
      "version": "3.10.13"
    }
  },
  "nbformat": 4,
  "nbformat_minor": 0
}
