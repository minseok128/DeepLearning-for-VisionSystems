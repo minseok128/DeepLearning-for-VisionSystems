{
  "cells": [
    {
      "cell_type": "code",
      "execution_count": 1,
      "metadata": {
        "colab": {
          "base_uri": "https://localhost:8080/"
        },
        "id": "zR_TQy2mAMhW",
        "outputId": "db0957ba-1868-48bb-e128-d011b96c271e"
      },
      "outputs": [
        {
          "name": "stdout",
          "output_type": "stream",
          "text": [
            "Collecting torchinfo\n",
            "  Downloading torchinfo-1.8.0-py3-none-any.whl (23 kB)\n",
            "Installing collected packages: torchinfo\n",
            "Successfully installed torchinfo-1.8.0\n"
          ]
        }
      ],
      "source": [
        "!pip install torchinfo"
      ]
    },
    {
      "cell_type": "code",
      "execution_count": 17,
      "metadata": {
        "colab": {
          "base_uri": "https://localhost:8080/"
        },
        "id": "OFmI2fV53A9u",
        "outputId": "4cc29aa4-802f-4f89-ecc0-893c8a4849d6"
      },
      "outputs": [
        {
          "name": "stdout",
          "output_type": "stream",
          "text": [
            "Wed Jul  3 04:37:17 2024       \n",
            "+---------------------------------------------------------------------------------------+\n",
            "| NVIDIA-SMI 535.104.05             Driver Version: 535.104.05   CUDA Version: 12.2     |\n",
            "|-----------------------------------------+----------------------+----------------------+\n",
            "| GPU  Name                 Persistence-M | Bus-Id        Disp.A | Volatile Uncorr. ECC |\n",
            "| Fan  Temp   Perf          Pwr:Usage/Cap |         Memory-Usage | GPU-Util  Compute M. |\n",
            "|                                         |                      |               MIG M. |\n",
            "|=========================================+======================+======================|\n",
            "|   0  Tesla T4                       Off | 00000000:00:04.0 Off |                    0 |\n",
            "| N/A   66C    P0              30W /  70W |    199MiB / 15360MiB |      0%      Default |\n",
            "|                                         |                      |                  N/A |\n",
            "+-----------------------------------------+----------------------+----------------------+\n",
            "                                                                                         \n",
            "+---------------------------------------------------------------------------------------+\n",
            "| Processes:                                                                            |\n",
            "|  GPU   GI   CI        PID   Type   Process name                            GPU Memory |\n",
            "|        ID   ID                                                             Usage      |\n",
            "|=======================================================================================|\n",
            "+---------------------------------------------------------------------------------------+\n"
          ]
        }
      ],
      "source": [
        "!nvidia-smi"
      ]
    },
    {
      "cell_type": "code",
      "execution_count": 3,
      "metadata": {
        "id": "w-H7jVy6TZjG"
      },
      "outputs": [],
      "source": [
        "# import\n",
        "\n",
        "import numpy as np\n",
        "from datetime import datetime\n",
        "import torch\n",
        "import torch.nn as nn\n",
        "import torch.nn.functional as F\n",
        "from torch.utils.data import DataLoader\n",
        "from torchvision import transforms\n",
        "from torchvision import datasets\n",
        "import matplotlib.pyplot as plt\n",
        "import torchinfo\n",
        "\n",
        "DEVICE = \"cuda\" if torch.cuda.is_available() else \"cpu\"\n",
        "from pytz import timezone"
      ]
    },
    {
      "cell_type": "code",
      "execution_count": 4,
      "metadata": {
        "id": "OLzGmT0HTZjJ"
      },
      "outputs": [],
      "source": [
        "# 하이퍼파라미터 설정\n",
        "RANDOM_SEED = 4242\n",
        "LEARNING_RATE = 0.01\n",
        "BATCH_SIZE = 32\n",
        "EPOCHS = 90\n",
        "IMG_SIZE = 227\n",
        "NUM_CLASSES = 1000"
      ]
    },
    {
      "cell_type": "code",
      "execution_count": 5,
      "metadata": {
        "id": "GqQG1MxKTZjJ"
      },
      "outputs": [],
      "source": [
        "# 모델의 정확도를 계산하는 함수\n",
        "def get_accuracy(model, data_loader, device):\n",
        "    correct_predictions = 0\n",
        "    total_predictions = 0\n",
        "    with torch.no_grad():\n",
        "        model.eval()\n",
        "        for images, labels in data_loader:\n",
        "            images = images.to(device)\n",
        "            labels = labels.to(device)\n",
        "            probabilities = F.softmax(model(images), dim=-1)\n",
        "            _, predicted_labels = torch.max(probabilities, 1)\n",
        "\n",
        "            total_predictions += labels.size(0)\n",
        "            correct_predictions += (predicted_labels == labels).sum()\n",
        "    return correct_predictions.float() / total_predictions"
      ]
    },
    {
      "cell_type": "code",
      "execution_count": 6,
      "metadata": {
        "id": "iJfn7YN0TZjJ"
      },
      "outputs": [],
      "source": [
        "# 학습 손실과 검증 손실을 시각화\n",
        "def plot_loss(train_loss, val_loss):\n",
        "    plt.style.use(\"grayscale\")\n",
        "    train_loss = np.array(train_loss)\n",
        "    val_loss = np.array(val_loss)\n",
        "    fig, ax = plt.subplots(1, 1, figsize=(8, 4.5))\n",
        "    ax.plot(train_loss, color=\"green\", label=\"Training Loss\")\n",
        "    ax.plot(val_loss, color=\"red\", label=\"Validation Loss\")\n",
        "    ax.set(title=\"Loss Over Epochs\", xlabel=\"EPOCH\", ylabel=\"LOSS\")\n",
        "    ax.legend()\n",
        "    fig.show()\n",
        "    plt.style.use(\"default\")"
      ]
    },
    {
      "cell_type": "code",
      "execution_count": 7,
      "metadata": {
        "id": "NGJjH-4QTZjK"
      },
      "outputs": [],
      "source": [
        "# 모델 학습 함수\n",
        "def train(train_loader, model, criterion, optimizer, device):\n",
        "    model.train()\n",
        "    total_loss = 0\n",
        "    for images, labels in train_loader:\n",
        "        optimizer.zero_grad()\n",
        "        images = images.to(device)\n",
        "        labels = labels.to(device)\n",
        "        logits = model(images)\n",
        "        loss = criterion(logits, labels)\n",
        "        total_loss += loss.item() * images.size(0)\n",
        "        loss.backward()\n",
        "        optimizer.step()\n",
        "    epoch_loss = total_loss / len(train_loader.dataset)\n",
        "    return model, optimizer, epoch_loss"
      ]
    },
    {
      "cell_type": "code",
      "execution_count": 8,
      "metadata": {
        "id": "8z8T2ZilTZjK"
      },
      "outputs": [],
      "source": [
        "# 검증 데이터셋을 사용하여 모델의 성능을 평가\n",
        "def validate(valid_loader, model, criterion, device):\n",
        "    model.eval()\n",
        "    total_loss = 0\n",
        "\n",
        "    for images, labels in valid_loader:\n",
        "        images = images.to(device)\n",
        "        labels = labels.to(device)\n",
        "\n",
        "        # 순전파와 손실 기록하기\n",
        "        logits = model(images)\n",
        "        loss = criterion(logits, labels)\n",
        "        total_loss += loss.item() * images.size(0)\n",
        "\n",
        "    epoch_loss = total_loss / len(valid_loader.dataset)\n",
        "    return model, epoch_loss"
      ]
    },
    {
      "cell_type": "code",
      "execution_count": 9,
      "metadata": {
        "id": "FbXy9bZKTZjK"
      },
      "outputs": [],
      "source": [
        "# 전체 학습 루프\n",
        "def training_loop(\n",
        "    model,\n",
        "    criterion,\n",
        "    optimizer,\n",
        "    train_loader,\n",
        "    valid_loader,\n",
        "    epochs,\n",
        "    device,\n",
        "    print_every=1,\n",
        "):\n",
        "    train_losses = []\n",
        "    valid_losses = []\n",
        "\n",
        "    for epoch in range(epochs):\n",
        "        # training\n",
        "        model, optimizer, train_loss = train(\n",
        "            train_loader, model, criterion, optimizer, device\n",
        "        )\n",
        "        train_losses.append(train_loss)\n",
        "\n",
        "        # validation\n",
        "        with torch.no_grad():\n",
        "            model, valid_loss = validate(valid_loader, model, criterion, device)\n",
        "            valid_losses.append(valid_loss)\n",
        "\n",
        "        if epoch % print_every == (print_every - 1):\n",
        "\n",
        "            train_acc = get_accuracy(model, train_loader, device=device)\n",
        "            valid_acc = get_accuracy(model, valid_loader, device=device)\n",
        "\n",
        "            print(\n",
        "                datetime.now(timezone(\"Asia/Seoul\")).time().replace(microsecond=0),\n",
        "                \"--- \",\n",
        "                f\"Epoch: {epoch}\\t\"\n",
        "                f\"Train loss: {train_loss:.4f}\\t\"\n",
        "                f\"Valid loss: {valid_loss:.4f}\\t\"\n",
        "                f\"Train accuracy: {100 * train_acc:.2f}\\t\"\n",
        "                f\"Valid accuracy: {100 * valid_acc:.2f}\",\n",
        "            )\n",
        "\n",
        "    plot_loss(train_losses, valid_losses)\n",
        "\n",
        "    return model, optimizer, (train_losses, valid_losses)"
      ]
    },
    {
      "cell_type": "code",
      "execution_count": 13,
      "metadata": {
        "colab": {
          "base_uri": "https://localhost:8080/"
        },
        "id": "3PdseEJ1TZjL",
        "outputId": "0b7137bf-012e-40bf-a445-29adcb7a2d90"
      },
      "outputs": [
        {
          "data": {
            "text/plain": [
              "==========================================================================================\n",
              "Layer (type:depth-idx)                   Output Shape              Param #\n",
              "==========================================================================================\n",
              "AlexNet                                  [1, 1000]                 --\n",
              "├─Conv2d: 1-1                            [1, 48, 55, 55]           17,472\n",
              "├─Conv2d: 1-2                            [1, 48, 55, 55]           17,472\n",
              "├─MaxPool2d: 1-3                         [1, 48, 27, 27]           --\n",
              "├─MaxPool2d: 1-4                         [1, 48, 27, 27]           --\n",
              "├─Conv2d: 1-5                            [1, 128, 27, 27]          153,728\n",
              "├─Conv2d: 1-6                            [1, 128, 27, 27]          153,728\n",
              "├─MaxPool2d: 1-7                         [1, 128, 13, 13]          --\n",
              "├─MaxPool2d: 1-8                         [1, 128, 13, 13]          --\n",
              "├─Conv2d: 1-9                            [1, 192, 13, 13]          221,376\n",
              "├─Conv2d: 1-10                           [1, 192, 13, 13]          221,376\n",
              "├─Conv2d: 1-11                           [1, 192, 13, 13]          331,968\n",
              "├─Conv2d: 1-12                           [1, 192, 13, 13]          331,968\n",
              "├─Conv2d: 1-13                           [1, 128, 13, 13]          221,312\n",
              "├─Conv2d: 1-14                           [1, 128, 13, 13]          221,312\n",
              "├─MaxPool2d: 1-15                        [1, 128, 6, 6]            --\n",
              "├─MaxPool2d: 1-16                        [1, 128, 6, 6]            --\n",
              "├─Linear: 1-17                           [1, 2048]                 9,439,232\n",
              "├─Linear: 1-18                           [1, 2048]                 9,439,232\n",
              "├─Linear: 1-19                           [1, 2048]                 4,196,352\n",
              "├─Linear: 1-20                           [1, 2048]                 4,196,352\n",
              "├─Linear: 1-21                           [1, 1000]                 4,097,000\n",
              "==========================================================================================\n",
              "Total params: 33,259,880\n",
              "Trainable params: 33,259,880\n",
              "Non-trainable params: 0\n",
              "Total mult-adds (M): 623.04\n",
              "==========================================================================================\n",
              "Input size (MB): 0.62\n",
              "Forward/backward pass size (MB): 5.27\n",
              "Params size (MB): 133.04\n",
              "Estimated Total Size (MB): 138.93\n",
              "=========================================================================================="
            ]
          },
          "execution_count": 13,
          "metadata": {},
          "output_type": "execute_result"
        }
      ],
      "source": [
        "# AlexNet 논문과 최대한 유사하게 구현\n",
        "class AlexNet(nn.Module):\n",
        "    def __init__(self, num_classes):\n",
        "        super(AlexNet, self).__init__()\n",
        "        self.conv1_u = nn.Conv2d(3, 48, kernel_size=11, stride=4, padding=0)\n",
        "        self.conv1_d = nn.Conv2d(3, 48, kernel_size=11, stride=4, padding=0)\n",
        "        self.pool1 = nn.MaxPool2d(kernel_size=3, stride=2)\n",
        "        \n",
        "        self.conv2_u = nn.Conv2d(48, 128, kernel_size=5, stride=1, padding=2)\n",
        "        self.conv2_d = nn.Conv2d(48, 128, kernel_size=5, stride=1, padding=2)\n",
        "        self.pool2 = nn.MaxPool2d(kernel_size=3, stride=2)\n",
        "\n",
        "        self.conv3_u = nn.Conv2d(128, 192, kernel_size=3, stride=1, padding=1)\n",
        "        self.conv3_d = nn.Conv2d(128, 192, kernel_size=3, stride=1, padding=1)\n",
        "\n",
        "        self.conv4_u = nn.Conv2d(192, 192, kernel_size=3, stride=1, padding=1)\n",
        "        self.conv4_d = nn.Conv2d(192, 192, kernel_size=3, stride=1, padding=1)\n",
        "\n",
        "        self.conv5_u = nn.Conv2d(192, 128, kernel_size=3, stride=1, padding=1)\n",
        "        self.conv5_d = nn.Conv2d(192, 128, kernel_size=3, stride=1, padding=1)\n",
        "        self.pool5 = nn.MaxPool2d(kernel_size=3, stride=2)\n",
        "\n",
        "        self.fc6_u = nn.Linear(128 * 6 * 6, 2048)\n",
        "        self.fc6_d = nn.Linear(128 * 6 * 6, 2048)\n",
        "\n",
        "        self.fc7_u = nn.Linear(2048, 2048)\n",
        "        self.fc7_d = nn.Linear(2048, 2048)\n",
        "\n",
        "        self.fc8 = nn.Linear(2048 * 2, 1000)\n",
        "\n",
        "    def forward(self, x):\n",
        "        # Conv 1\n",
        "        x_u = F.relu(self.conv1_u(x))\n",
        "        x_d = F.relu(self.conv1_d(x))\n",
        "        x_u = self.pool1(x_u)\n",
        "        x_d = self.pool1(x_d)\n",
        "\n",
        "        # Conv 2\n",
        "        x_u = F.relu(self.conv2_u(x_u))\n",
        "        x_d = F.relu(self.conv2_d(x_d))\n",
        "        x_u = self.pool2(x_u)\n",
        "        x_d = self.pool2(x_d)\n",
        "\n",
        "        # Conv 3, GPU 데이터 절반 씩 교환\n",
        "        x_u_split = torch.split(x_u, x_u.size(1) // 2, dim=1)\n",
        "        x_d_split = torch.split(x_d, x_d.size(1) // 2, dim=1)\n",
        "        x_u = torch.cat((x_u_split[0], x_d_split[1]), dim=1)\n",
        "        x_d = torch.cat((x_d_split[0], x_u_split[1]), dim=1)\n",
        "        x_u = F.relu(self.conv3_u(x_u))\n",
        "        x_d = F.relu(self.conv3_d(x_d))\n",
        "\n",
        "        # Conv 4\n",
        "        x_u = F.relu(self.conv4_u(x_u))\n",
        "        x_d = F.relu(self.conv4_d(x_d))\n",
        "\n",
        "        # Conv 5\n",
        "        x_u = F.relu(self.conv5_u(x_u))\n",
        "        x_d = F.relu(self.conv5_d(x_d))\n",
        "        x_u = self.pool5(x_u)\n",
        "        x_d = self.pool5(x_d)\n",
        "\n",
        "        # FC 6, GPU 데이터 절반 씩 교환\n",
        "        x_u_split = torch.split(x_u, x_u.size(1) // 2, dim=1)\n",
        "        x_d_split = torch.split(x_d, x_d.size(1) // 2, dim=1)\n",
        "        x_u = torch.cat((x_u_split[0], x_d_split[1]), dim=1)\n",
        "        x_d = torch.cat((x_d_split[0], x_u_split[1]), dim=1)\n",
        "        x_u = x_u.view(x_u.size(0), -1)\n",
        "        x_d = x_d.view(x_d.size(0), -1)\n",
        "        x_u = F.relu(self.fc6_u(x_u))\n",
        "        x_d = F.relu(self.fc6_d(x_d))\n",
        "\n",
        "        # FC 7, GPU 데이터 절반 씩 교환\n",
        "        x_u_split = torch.split(x_u, x_u.size(1) // 2, dim=1)\n",
        "        x_d_split = torch.split(x_d, x_d.size(1) // 2, dim=1)\n",
        "        x_u = torch.cat((x_u_split[0], x_d_split[1]), dim=1)\n",
        "        x_d = torch.cat((x_d_split[0], x_u_split[1]), dim=1)\n",
        "        x_u = F.relu(self.fc7_u(x_u))\n",
        "        x_d = F.relu(self.fc7_d(x_d))\n",
        "\n",
        "        # FC 8, GPU 데이터 합치기\n",
        "        x = torch.cat((x_u, x_d), dim=1)\n",
        "        logits = self.fc8(x)\n",
        "\n",
        "        return logits\n",
        "\n",
        "\n",
        "torchinfo.summary(AlexNet(NUM_CLASSES), input_size=(1, 3, IMG_SIZE, IMG_SIZE))"
      ]
    },
    {
      "cell_type": "code",
      "execution_count": null,
      "metadata": {},
      "outputs": [],
      "source": []
    }
  ],
  "metadata": {
    "accelerator": "GPU",
    "colab": {
      "gpuType": "T4",
      "provenance": []
    },
    "kernelspec": {
      "display_name": "Python 3",
      "name": "python3"
    },
    "language_info": {
      "codemirror_mode": {
        "name": "ipython",
        "version": 3
      },
      "file_extension": ".py",
      "mimetype": "text/x-python",
      "name": "python",
      "nbconvert_exporter": "python",
      "pygments_lexer": "ipython3",
      "version": "3.10.11"
    }
  },
  "nbformat": 4,
  "nbformat_minor": 0
}
