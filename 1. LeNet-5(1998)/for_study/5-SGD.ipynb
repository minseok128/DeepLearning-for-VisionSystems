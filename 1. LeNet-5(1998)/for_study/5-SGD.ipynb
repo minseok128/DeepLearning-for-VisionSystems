{
  "metadata": {
    "accelerator": "GPU",
    "colab": {
      "gpuType": "T4",
      "provenance": []
    },
    "kernelspec": {
      "name": "python3",
      "display_name": "Python 3"
    },
    "language_info": {
      "name": "python",
      "version": "3.10.13",
      "mimetype": "text/x-python",
      "codemirror_mode": {
        "name": "ipython",
        "version": 3
      },
      "pygments_lexer": "ipython3",
      "nbconvert_exporter": "python",
      "file_extension": ".py"
    },
    "kaggle": {
      "accelerator": "nvidiaTeslaT4",
      "dataSources": [],
      "dockerImageVersionId": 30747,
      "isInternetEnabled": true,
      "language": "python",
      "sourceType": "notebook",
      "isGpuEnabled": true
    }
  },
  "nbformat_minor": 0,
  "nbformat": 4,
  "cells": [
    {
      "cell_type": "code",
      "source": [
        "!nvidia-smi\n",
        "!pip install torchinfo"
      ],
      "metadata": {
        "execution": {
          "iopub.status.busy": "2024-07-24T13:19:11.086573Z",
          "iopub.execute_input": "2024-07-24T13:19:11.087458Z",
          "iopub.status.idle": "2024-07-24T13:19:12.204165Z",
          "shell.execute_reply.started": "2024-07-24T13:19:11.087426Z",
          "shell.execute_reply": "2024-07-24T13:19:12.203031Z"
        },
        "trusted": true,
        "colab": {
          "base_uri": "https://localhost:8080/"
        },
        "id": "-czZz1qLAXp2",
        "outputId": "cb53ee32-eb70-4cba-e3be-77df993ab233"
      },
      "execution_count": 3,
      "outputs": [
        {
          "output_type": "stream",
          "name": "stdout",
          "text": [
            "Wed Jul 24 13:51:32 2024       \n",
            "+---------------------------------------------------------------------------------------+\n",
            "| NVIDIA-SMI 535.104.05             Driver Version: 535.104.05   CUDA Version: 12.2     |\n",
            "|-----------------------------------------+----------------------+----------------------+\n",
            "| GPU  Name                 Persistence-M | Bus-Id        Disp.A | Volatile Uncorr. ECC |\n",
            "| Fan  Temp   Perf          Pwr:Usage/Cap |         Memory-Usage | GPU-Util  Compute M. |\n",
            "|                                         |                      |               MIG M. |\n",
            "|=========================================+======================+======================|\n",
            "|   0  Tesla T4                       Off | 00000000:00:04.0 Off |                    0 |\n",
            "| N/A   44C    P8               9W /  70W |      0MiB / 15360MiB |      0%      Default |\n",
            "|                                         |                      |                  N/A |\n",
            "+-----------------------------------------+----------------------+----------------------+\n",
            "                                                                                         \n",
            "+---------------------------------------------------------------------------------------+\n",
            "| Processes:                                                                            |\n",
            "|  GPU   GI   CI        PID   Type   Process name                            GPU Memory |\n",
            "|        ID   ID                                                             Usage      |\n",
            "|=======================================================================================|\n",
            "|  No running processes found                                                           |\n",
            "+---------------------------------------------------------------------------------------+\n",
            "Collecting torchinfo\n",
            "  Downloading torchinfo-1.8.0-py3-none-any.whl (23 kB)\n",
            "Installing collected packages: torchinfo\n",
            "Successfully installed torchinfo-1.8.0\n"
          ]
        }
      ]
    },
    {
      "cell_type": "code",
      "source": [
        "# import\n",
        "\n",
        "import numpy as np\n",
        "from datetime import datetime\n",
        "import torch\n",
        "import torch.nn as nn\n",
        "import torch.nn.functional as F\n",
        "from torch.utils.data import DataLoader, random_split, ConcatDataset\n",
        "from torchvision import transforms\n",
        "from torchvision import datasets\n",
        "import matplotlib.pyplot as plt\n",
        "import torchinfo\n",
        "import os\n",
        "from pytz import timezone\n",
        "from tqdm import tqdm\n",
        "\n",
        "os.environ[\"CUDA_DEVICE_ORDER\"]=\"PCI_BUS_ID\"\n",
        "os.environ[\"CUDA_VISIBLE_DEVICES\"]= \"0,1\"\n",
        "\n",
        "DEVICE = torch.device(\"cuda\" if torch.cuda.is_available() else \"cpu\")\n",
        "print('Device:', DEVICE)  # 출력결과: cuda\n",
        "print('Count of using GPUs:', torch.cuda.device_count())\n",
        "print('Current cuda device:', torch.cuda.current_device())"
      ],
      "metadata": {
        "id": "w-H7jVy6TZjG",
        "execution": {
          "iopub.status.busy": "2024-07-24T13:21:12.589030Z",
          "iopub.execute_input": "2024-07-24T13:21:12.589885Z",
          "iopub.status.idle": "2024-07-24T13:21:12.597912Z",
          "shell.execute_reply.started": "2024-07-24T13:21:12.589848Z",
          "shell.execute_reply": "2024-07-24T13:21:12.596985Z"
        },
        "trusted": true,
        "colab": {
          "base_uri": "https://localhost:8080/"
        },
        "outputId": "0ac8ce3e-b2e5-4e2d-f2a3-ffc0441fee90"
      },
      "execution_count": 4,
      "outputs": [
        {
          "output_type": "stream",
          "name": "stdout",
          "text": [
            "Device: cuda\n",
            "Count of using GPUs: 1\n",
            "Current cuda device: 0\n"
          ]
        }
      ]
    },
    {
      "cell_type": "code",
      "source": [
        "# 하이퍼파라미터 설정\n",
        "RANDOM_SEED = 4242\n",
        "BATCH_SIZE = 64\n",
        "EPOCHS = 40\n",
        "IMG_SIZE = 32\n",
        "NUM_CLASSES = 10\n"
      ],
      "metadata": {
        "id": "OLzGmT0HTZjJ",
        "execution": {
          "iopub.status.busy": "2024-07-24T13:21:12.966191Z",
          "iopub.execute_input": "2024-07-24T13:21:12.967023Z",
          "iopub.status.idle": "2024-07-24T13:21:12.972484Z",
          "shell.execute_reply.started": "2024-07-24T13:21:12.966992Z",
          "shell.execute_reply": "2024-07-24T13:21:12.971408Z"
        },
        "trusted": true
      },
      "execution_count": 30,
      "outputs": []
    },
    {
      "cell_type": "code",
      "source": [
        "# 모델의 정확도를 계산하는 함수\n",
        "def get_accuracy(model, data_loader, device):\n",
        "    correct_predictions = 0\n",
        "    total_predictions = 0\n",
        "    with torch.no_grad():\n",
        "        model.eval()\n",
        "        for images, labels in data_loader:\n",
        "            images = images.to(device)\n",
        "            labels = labels.to(device)\n",
        "            probabilities = F.softmax(model(images), dim=-1)\n",
        "            _, predicted_labels = torch.max(probabilities, 1)\n",
        "\n",
        "            total_predictions += labels.size(0)\n",
        "            correct_predictions += (predicted_labels == labels).sum()\n",
        "    return correct_predictions.float() / total_predictions"
      ],
      "metadata": {
        "id": "GqQG1MxKTZjJ",
        "execution": {
          "iopub.status.busy": "2024-07-24T13:21:13.321940Z",
          "iopub.execute_input": "2024-07-24T13:21:13.322674Z",
          "iopub.status.idle": "2024-07-24T13:21:13.329085Z",
          "shell.execute_reply.started": "2024-07-24T13:21:13.322643Z",
          "shell.execute_reply": "2024-07-24T13:21:13.328120Z"
        },
        "trusted": true
      },
      "execution_count": 31,
      "outputs": []
    },
    {
      "cell_type": "code",
      "source": [
        "# 학습 손실과 검증 손실을 시각화\n",
        "def plot_loss(train_loss, val_loss):\n",
        "    plt.style.use(\"grayscale\")\n",
        "    train_loss = np.array(train_loss)\n",
        "    val_loss = np.array(val_loss)\n",
        "    fig, ax = plt.subplots(1, 1, figsize=(8, 4.5))\n",
        "    ax.plot(train_loss, color=\"green\", label=\"Training Loss\")\n",
        "    ax.plot(val_loss, color=\"red\", label=\"Validation Loss\")\n",
        "    ax.set(title=\"Loss Over Epochs\", xlabel=\"EPOCH\", ylabel=\"LOSS\")\n",
        "    ax.legend()\n",
        "    fig.show()\n",
        "    plt.style.use(\"default\")"
      ],
      "metadata": {
        "id": "iJfn7YN0TZjJ",
        "execution": {
          "iopub.status.busy": "2024-07-24T13:21:13.618556Z",
          "iopub.execute_input": "2024-07-24T13:21:13.619160Z",
          "iopub.status.idle": "2024-07-24T13:21:13.625732Z",
          "shell.execute_reply.started": "2024-07-24T13:21:13.619130Z",
          "shell.execute_reply": "2024-07-24T13:21:13.624510Z"
        },
        "trusted": true
      },
      "execution_count": 32,
      "outputs": []
    },
    {
      "cell_type": "code",
      "source": [
        "# 모델 학습 함수\n",
        "def train(train_loader, model, criterion, optimizer, device):\n",
        "    model.train()\n",
        "    total_loss = 0\n",
        "    for images, labels in train_loader:\n",
        "        optimizer.zero_grad()\n",
        "        images = images.to(device)\n",
        "        labels = labels.to(device)\n",
        "        logits = model(images)\n",
        "        loss = criterion(logits, labels)\n",
        "        total_loss += loss.item() * images.size(0)\n",
        "        loss.backward()\n",
        "        optimizer.step()\n",
        "    epoch_loss = total_loss / len(train_loader.dataset)\n",
        "    return model, optimizer, epoch_loss"
      ],
      "metadata": {
        "id": "NGJjH-4QTZjK",
        "execution": {
          "iopub.status.busy": "2024-07-24T13:21:13.927173Z",
          "iopub.execute_input": "2024-07-24T13:21:13.927547Z",
          "iopub.status.idle": "2024-07-24T13:21:13.934544Z",
          "shell.execute_reply.started": "2024-07-24T13:21:13.927519Z",
          "shell.execute_reply": "2024-07-24T13:21:13.933399Z"
        },
        "trusted": true
      },
      "execution_count": 33,
      "outputs": []
    },
    {
      "cell_type": "code",
      "source": [
        "# 검증 데이터셋을 사용하여 모델의 성능을 평가\n",
        "def validate(valid_loader, model, criterion, device):\n",
        "    model.eval()\n",
        "    total_loss = 0\n",
        "\n",
        "    for images, labels in valid_loader:\n",
        "        images = images.to(device)\n",
        "        labels = labels.to(device)\n",
        "\n",
        "        # 순전파와 손실 기록하기\n",
        "        logits = model(images)\n",
        "        loss = criterion(logits, labels)\n",
        "        total_loss += loss.item() * images.size(0)\n",
        "\n",
        "    epoch_loss = total_loss / len(valid_loader.dataset)\n",
        "    return model, epoch_loss"
      ],
      "metadata": {
        "id": "8z8T2ZilTZjK",
        "execution": {
          "iopub.status.busy": "2024-07-24T13:21:14.255253Z",
          "iopub.execute_input": "2024-07-24T13:21:14.255915Z",
          "iopub.status.idle": "2024-07-24T13:21:14.261709Z",
          "shell.execute_reply.started": "2024-07-24T13:21:14.255880Z",
          "shell.execute_reply": "2024-07-24T13:21:14.260818Z"
        },
        "trusted": true
      },
      "execution_count": 34,
      "outputs": []
    },
    {
      "cell_type": "code",
      "source": [
        "# 전체 학습 루프\n",
        "def training_loop(\n",
        "    model,\n",
        "    criterion,\n",
        "    optimizer,\n",
        "    train_loader,\n",
        "    valid_loader,\n",
        "    epochs,\n",
        "    device,\n",
        "    print_every=1,\n",
        "):\n",
        "    train_losses = []\n",
        "    valid_losses = []\n",
        "    print(\n",
        "        datetime.now(timezone(\"Asia/Seoul\")).time().replace(microsecond=0),\n",
        "        \"--- Start Training Loop ---\",\n",
        "    )\n",
        "\n",
        "    for epoch in range(epochs):\n",
        "        # training\n",
        "        model.train()\n",
        "        running_loss = 0.0\n",
        "        train_loader_tqdm = tqdm(train_loader, desc=f\"Epoch {epoch + 1}/{epochs}\", leave=False)\n",
        "        for inputs, labels in train_loader_tqdm:\n",
        "            inputs, labels = inputs.to(device), labels.to(device)\n",
        "\n",
        "            optimizer.zero_grad()\n",
        "            outputs = model(inputs)\n",
        "            loss = criterion(outputs, labels)\n",
        "            loss.backward()\n",
        "            optimizer.step()\n",
        "\n",
        "            running_loss += loss.item() * inputs.size(0)\n",
        "\n",
        "        train_loss = running_loss / len(train_loader.dataset)\n",
        "        train_losses.append(train_loss)\n",
        "\n",
        "        # validation\n",
        "        model.eval()\n",
        "        running_loss = 0.0\n",
        "        valid_loader_tqdm = tqdm(valid_loader, desc=f\"Validation {epoch + 1}/{epochs}\", leave=False)\n",
        "        with torch.no_grad():\n",
        "            for inputs, labels in valid_loader_tqdm:\n",
        "                inputs, labels = inputs.to(device), labels.to(device)\n",
        "                outputs = model(inputs)\n",
        "                loss = criterion(outputs, labels)\n",
        "                running_loss += loss.item() * inputs.size(0)\n",
        "\n",
        "        valid_loss = running_loss / len(valid_loader.dataset)\n",
        "        valid_losses.append(valid_loss)\n",
        "\n",
        "        if epoch % print_every == (print_every - 1):\n",
        "\n",
        "            train_acc = get_accuracy(model, train_loader, device=device)\n",
        "            valid_acc = get_accuracy(model, valid_loader, device=device)\n",
        "\n",
        "            print(\n",
        "                datetime.now(timezone(\"Asia/Seoul\")).time().replace(microsecond=0),\n",
        "                \"--- \",\n",
        "                f\"Epoch: {epoch + 1}\\t\"\n",
        "                f\"Train loss: {train_loss:.4f}\\t\"\n",
        "                f\"Valid loss: {valid_loss:.4f}\\t\"\n",
        "                f\"Train accuracy: {100 * train_acc:.2f}\\t\"\n",
        "                f\"Valid accuracy: {100 * valid_acc:.2f}\",\n",
        "            )\n",
        "\n",
        "    plot_loss(train_losses, valid_losses)\n",
        "\n",
        "    return model, optimizer, (train_losses, valid_losses)"
      ],
      "metadata": {
        "id": "FbXy9bZKTZjK",
        "execution": {
          "iopub.status.busy": "2024-07-24T13:21:14.817258Z",
          "iopub.execute_input": "2024-07-24T13:21:14.818333Z",
          "iopub.status.idle": "2024-07-24T13:21:14.831141Z",
          "shell.execute_reply.started": "2024-07-24T13:21:14.818290Z",
          "shell.execute_reply": "2024-07-24T13:21:14.830289Z"
        },
        "trusted": true
      },
      "execution_count": 35,
      "outputs": []
    },
    {
      "cell_type": "code",
      "source": [
        "# LeNet5 모델 정의\n",
        "class LeNet5(nn.Module):\n",
        "\n",
        "    def __init__(self, num_classes):\n",
        "        super(LeNet5, self).__init__()\n",
        "        self.conv1 = nn.Conv2d(in_channels=1, out_channels=6, kernel_size=5, stride=1)\n",
        "        self.pool2 = nn.AvgPool2d(kernel_size=2, stride=2)\n",
        "        self.conv3 = nn.Conv2d(in_channels=6, out_channels=16, kernel_size=5, stride=1)\n",
        "        self.pool4 = nn.AvgPool2d(kernel_size=2, stride=2)\n",
        "        self.conv5 = nn.Conv2d(in_channels=16, out_channels=120, kernel_size=5, stride=1)\n",
        "        self.fc6 = nn.Linear(120, 84)\n",
        "        self.fc7 = nn.Linear(84, num_classes)\n",
        "\n",
        "    def forward(self, x):\n",
        "        x = self.conv1(x)\n",
        "        x = F.tanh(x)\n",
        "\n",
        "        x = self.pool2(x)\n",
        "\n",
        "        x = self.conv3(x)\n",
        "        x = F.tanh(x)\n",
        "\n",
        "        x = self.pool4(x)\n",
        "\n",
        "        x = self.conv5(x)\n",
        "        x = F.tanh(x)\n",
        "\n",
        "        x = x.view(x.size(0), -1)\n",
        "        x = self.fc6(x)\n",
        "        x = F.tanh(x)\n",
        "\n",
        "        logits = self.fc7(x)\n",
        "\n",
        "        return logits\n",
        "torchinfo.summary(LeNet5(NUM_CLASSES), input_size=(1, 1, 32, 32))"
      ],
      "metadata": {
        "id": "3PdseEJ1TZjL",
        "execution": {
          "iopub.status.busy": "2024-07-24T13:21:15.323465Z",
          "iopub.execute_input": "2024-07-24T13:21:15.323871Z",
          "iopub.status.idle": "2024-07-24T13:21:15.345781Z",
          "shell.execute_reply.started": "2024-07-24T13:21:15.323840Z",
          "shell.execute_reply": "2024-07-24T13:21:15.344611Z"
        },
        "trusted": true,
        "colab": {
          "base_uri": "https://localhost:8080/"
        },
        "outputId": "b7154965-e5a5-4cf3-f698-0c294601f9a1"
      },
      "execution_count": 36,
      "outputs": [
        {
          "output_type": "execute_result",
          "data": {
            "text/plain": [
              "==========================================================================================\n",
              "Layer (type:depth-idx)                   Output Shape              Param #\n",
              "==========================================================================================\n",
              "LeNet5                                   [1, 10]                   --\n",
              "├─Conv2d: 1-1                            [1, 6, 28, 28]            156\n",
              "├─AvgPool2d: 1-2                         [1, 6, 14, 14]            --\n",
              "├─Conv2d: 1-3                            [1, 16, 10, 10]           2,416\n",
              "├─AvgPool2d: 1-4                         [1, 16, 5, 5]             --\n",
              "├─Conv2d: 1-5                            [1, 120, 1, 1]            48,120\n",
              "├─Linear: 1-6                            [1, 84]                   10,164\n",
              "├─Linear: 1-7                            [1, 10]                   850\n",
              "==========================================================================================\n",
              "Total params: 61,706\n",
              "Trainable params: 61,706\n",
              "Non-trainable params: 0\n",
              "Total mult-adds (M): 0.42\n",
              "==========================================================================================\n",
              "Input size (MB): 0.00\n",
              "Forward/backward pass size (MB): 0.05\n",
              "Params size (MB): 0.25\n",
              "Estimated Total Size (MB): 0.30\n",
              "=========================================================================================="
            ]
          },
          "metadata": {},
          "execution_count": 36
        }
      ]
    },
    {
      "cell_type": "code",
      "source": [
        "# transforms 정의하기\n",
        "transform = transforms.Compose([transforms.Resize((32, 32)), transforms.ToTensor()])\n",
        "\n",
        "# 데이터셋 다운로드 및 생성\n",
        "\n",
        "full_dataset = datasets.MNIST(root=\"mnist_data\", train=True, transform=transform, download=True)\n",
        "full_dataset = ConcatDataset([full_dataset, datasets.MNIST(root=\"mnist_data\", train=False, transform=transform)])\n",
        "\n",
        "total_size = len(full_dataset)\n",
        "\n",
        "train_size = int(0.7 * total_size)\n",
        "valid_size = int(0.15 * total_size)\n",
        "test_size = total_size - train_size - valid_size\n",
        "\n",
        "train_dataset, valid_dataset, test_dataset = random_split(full_dataset, [train_size, valid_size, test_size])\n",
        "\n",
        "# 데이터 로더 정의\n",
        "train_loader = DataLoader(dataset=train_dataset, batch_size=BATCH_SIZE, shuffle=True)\n",
        "valid_loader = DataLoader(dataset=valid_dataset, batch_size=BATCH_SIZE, shuffle=False)\n",
        "test_loader = DataLoader(dataset=test_dataset, batch_size=BATCH_SIZE, shuffle=False)\n",
        "\n",
        "# 불러온 MNIST 데이터 확인\n",
        "ROW_IMG = 10\n",
        "N_ROWS = 5\n",
        "\n",
        "fig = plt.figure()\n",
        "for index in range(1, ROW_IMG * N_ROWS + 1):\n",
        "    plt.subplot(N_ROWS, ROW_IMG, index)\n",
        "    plt.axis(\"off\")\n",
        "    plt.imshow(train_dataset.dataset[index][0].squeeze(), cmap=\"gray_r\")\n",
        "\n",
        "fig.suptitle(\"MNIST Dataset\")\n",
        "\n",
        "# 데이터셋 크기 출력\n",
        "print(\"train dataset size: \", len(train_dataset))\n",
        "print(\"valid dataset size: \", len(valid_dataset))\n",
        "print(\"test dataset size: \", len(test_dataset))"
      ],
      "metadata": {
        "colab": {
          "base_uri": "https://localhost:8080/",
          "height": 497
        },
        "id": "lLX371mmTZjL",
        "outputId": "5b7384df-4700-4dc4-adb0-ecfca1665dde",
        "execution": {
          "iopub.status.busy": "2024-07-24T13:21:16.045601Z",
          "iopub.execute_input": "2024-07-24T13:21:16.046513Z",
          "iopub.status.idle": "2024-07-24T13:21:18.079352Z",
          "shell.execute_reply.started": "2024-07-24T13:21:16.046473Z",
          "shell.execute_reply": "2024-07-24T13:21:18.078374Z"
        },
        "trusted": true
      },
      "execution_count": 37,
      "outputs": [
        {
          "output_type": "stream",
          "name": "stdout",
          "text": [
            "train dataset size:  49000\n",
            "valid dataset size:  10500\n",
            "test dataset size:  10500\n"
          ]
        },
        {
          "output_type": "display_data",
          "data": {
            "text/plain": [
              "<Figure size 640x480 with 50 Axes>"
            ],
            "image/png": "[encoded data removed]"
          },
          "metadata": {}
        }
      ]
    },
    {
      "cell_type": "code",
      "source": [
        "torch.manual_seed(RANDOM_SEED)\n",
        "\n",
        "_model = LeNet5(NUM_CLASSES).cuda()\n",
        "model = nn.DataParallel(_model).to(DEVICE)\n",
        "optimizer = torch.optim.SGD(model.parameters())\n",
        "criterion = nn.CrossEntropyLoss()\n",
        "\n",
        "model, optimizer, _ = training_loop(\n",
        "    model, criterion, optimizer, train_loader, valid_loader, EPOCHS, DEVICE\n",
        ")"
      ],
      "metadata": {
        "colab": {
          "base_uri": "https://localhost:8080/",
          "height": 1000
        },
        "id": "Syjq1pfOTZjM",
        "outputId": "8d05c11f-70c5-4019-f665-846938bec344",
        "execution": {
          "iopub.status.busy": "2024-07-24T13:21:18.081181Z",
          "iopub.execute_input": "2024-07-24T13:21:18.081900Z",
          "iopub.status.idle": "2024-07-24T13:34:12.018819Z",
          "shell.execute_reply.started": "2024-07-24T13:21:18.081863Z",
          "shell.execute_reply": "2024-07-24T13:34:12.017891Z"
        },
        "trusted": true
      },
      "execution_count": 38,
      "outputs": [
        {
          "output_type": "stream",
          "name": "stdout",
          "text": [
            "23:35:59 --- Start Training Loop ---\n"
          ]
        },
        {
          "output_type": "stream",
          "name": "stderr",
          "text": []
        },
        {
          "output_type": "stream",
          "name": "stdout",
          "text": [
            "23:36:22 ---  Epoch: 1\tTrain loss: 2.3027\tValid loss: 2.2958\tTrain accuracy: 9.91\tValid accuracy: 10.10\n"
          ]
        },
        {
          "output_type": "stream",
          "name": "stderr",
          "text": []
        },
        {
          "output_type": "stream",
          "name": "stdout",
          "text": [
            "23:36:46 ---  Epoch: 2\tTrain loss: 2.2903\tValid loss: 2.2825\tTrain accuracy: 18.70\tValid accuracy: 19.05\n"
          ]
        },
        {
          "output_type": "stream",
          "name": "stderr",
          "text": []
        },
        {
          "output_type": "stream",
          "name": "stdout",
          "text": [
            "23:37:10 ---  Epoch: 3\tTrain loss: 2.2743\tValid loss: 2.2632\tTrain accuracy: 30.01\tValid accuracy: 29.82\n"
          ]
        },
        {
          "output_type": "stream",
          "name": "stderr",
          "text": []
        },
        {
          "output_type": "stream",
          "name": "stdout",
          "text": [
            "23:37:34 ---  Epoch: 4\tTrain loss: 2.2489\tValid loss: 2.2304\tTrain accuracy: 47.00\tValid accuracy: 47.22\n"
          ]
        },
        {
          "output_type": "stream",
          "name": "stderr",
          "text": []
        },
        {
          "output_type": "stream",
          "name": "stdout",
          "text": [
            "23:37:58 ---  Epoch: 5\tTrain loss: 2.2030\tValid loss: 2.1674\tTrain accuracy: 57.32\tValid accuracy: 57.36\n"
          ]
        },
        {
          "output_type": "stream",
          "name": "stderr",
          "text": []
        },
        {
          "output_type": "stream",
          "name": "stdout",
          "text": [
            "23:38:22 ---  Epoch: 6\tTrain loss: 2.1109\tValid loss: 2.0371\tTrain accuracy: 61.94\tValid accuracy: 62.06\n"
          ]
        },
        {
          "output_type": "stream",
          "name": "stderr",
          "text": []
        },
        {
          "output_type": "stream",
          "name": "stdout",
          "text": [
            "23:38:46 ---  Epoch: 7\tTrain loss: 1.9296\tValid loss: 1.8018\tTrain accuracy: 61.83\tValid accuracy: 61.65\n"
          ]
        },
        {
          "output_type": "stream",
          "name": "stderr",
          "text": []
        },
        {
          "output_type": "stream",
          "name": "stdout",
          "text": [
            "23:39:09 ---  Epoch: 8\tTrain loss: 1.6646\tValid loss: 1.5220\tTrain accuracy: 64.56\tValid accuracy: 64.56\n"
          ]
        },
        {
          "output_type": "stream",
          "name": "stderr",
          "text": []
        },
        {
          "output_type": "stream",
          "name": "stdout",
          "text": [
            "23:39:32 ---  Epoch: 9\tTrain loss: 1.3946\tValid loss: 1.2699\tTrain accuracy: 69.32\tValid accuracy: 69.34\n"
          ]
        },
        {
          "output_type": "stream",
          "name": "stderr",
          "text": []
        },
        {
          "output_type": "stream",
          "name": "stdout",
          "text": [
            "23:39:55 ---  Epoch: 10\tTrain loss: 1.1686\tValid loss: 1.0715\tTrain accuracy: 73.94\tValid accuracy: 74.22\n"
          ]
        },
        {
          "output_type": "stream",
          "name": "stderr",
          "text": []
        },
        {
          "output_type": "stream",
          "name": "stdout",
          "text": [
            "23:40:19 ---  Epoch: 11\tTrain loss: 0.9978\tValid loss: 0.9251\tTrain accuracy: 77.41\tValid accuracy: 77.68\n"
          ]
        },
        {
          "output_type": "stream",
          "name": "stderr",
          "text": []
        },
        {
          "output_type": "stream",
          "name": "stdout",
          "text": [
            "23:40:42 ---  Epoch: 12\tTrain loss: 0.8729\tValid loss: 0.8173\tTrain accuracy: 79.71\tValid accuracy: 80.25\n"
          ]
        },
        {
          "output_type": "stream",
          "name": "stderr",
          "text": []
        },
        {
          "output_type": "stream",
          "name": "stdout",
          "text": [
            "23:41:05 ---  Epoch: 13\tTrain loss: 0.7804\tValid loss: 0.7364\tTrain accuracy: 81.31\tValid accuracy: 82.04\n"
          ]
        },
        {
          "output_type": "stream",
          "name": "stderr",
          "text": []
        },
        {
          "output_type": "stream",
          "name": "stdout",
          "text": [
            "23:41:29 ---  Epoch: 14\tTrain loss: 0.7099\tValid loss: 0.6733\tTrain accuracy: 82.70\tValid accuracy: 83.54\n"
          ]
        },
        {
          "output_type": "stream",
          "name": "stderr",
          "text": []
        },
        {
          "output_type": "stream",
          "name": "stdout",
          "text": [
            "23:41:53 ---  Epoch: 15\tTrain loss: 0.6543\tValid loss: 0.6230\tTrain accuracy: 83.81\tValid accuracy: 84.39\n"
          ]
        },
        {
          "output_type": "stream",
          "name": "stderr",
          "text": []
        },
        {
          "output_type": "stream",
          "name": "stdout",
          "text": [
            "23:42:17 ---  Epoch: 16\tTrain loss: 0.6094\tValid loss: 0.5818\tTrain accuracy: 84.67\tValid accuracy: 85.19\n"
          ]
        },
        {
          "output_type": "stream",
          "name": "stderr",
          "text": []
        },
        {
          "output_type": "stream",
          "name": "stdout",
          "text": [
            "23:42:41 ---  Epoch: 17\tTrain loss: 0.5723\tValid loss: 0.5477\tTrain accuracy: 85.42\tValid accuracy: 85.94\n"
          ]
        },
        {
          "output_type": "stream",
          "name": "stderr",
          "text": []
        },
        {
          "output_type": "stream",
          "name": "stdout",
          "text": [
            "23:43:05 ---  Epoch: 18\tTrain loss: 0.5411\tValid loss: 0.5187\tTrain accuracy: 86.10\tValid accuracy: 86.44\n"
          ]
        },
        {
          "output_type": "stream",
          "name": "stderr",
          "text": []
        },
        {
          "output_type": "stream",
          "name": "stdout",
          "text": [
            "23:43:29 ---  Epoch: 19\tTrain loss: 0.5146\tValid loss: 0.4940\tTrain accuracy: 86.53\tValid accuracy: 87.02\n"
          ]
        },
        {
          "output_type": "stream",
          "name": "stderr",
          "text": []
        },
        {
          "output_type": "stream",
          "name": "stdout",
          "text": [
            "23:43:53 ---  Epoch: 20\tTrain loss: 0.4918\tValid loss: 0.4728\tTrain accuracy: 86.98\tValid accuracy: 87.65\n"
          ]
        },
        {
          "output_type": "stream",
          "name": "stderr",
          "text": []
        },
        {
          "output_type": "stream",
          "name": "stdout",
          "text": [
            "23:44:17 ---  Epoch: 21\tTrain loss: 0.4720\tValid loss: 0.4543\tTrain accuracy: 87.38\tValid accuracy: 87.85\n"
          ]
        },
        {
          "output_type": "stream",
          "name": "stderr",
          "text": []
        },
        {
          "output_type": "stream",
          "name": "stdout",
          "text": [
            "23:44:40 ---  Epoch: 22\tTrain loss: 0.4548\tValid loss: 0.4381\tTrain accuracy: 87.72\tValid accuracy: 88.25\n"
          ]
        },
        {
          "output_type": "stream",
          "name": "stderr",
          "text": []
        },
        {
          "output_type": "stream",
          "name": "stdout",
          "text": [
            "23:45:04 ---  Epoch: 23\tTrain loss: 0.4395\tValid loss: 0.4238\tTrain accuracy: 88.03\tValid accuracy: 88.46\n"
          ]
        },
        {
          "output_type": "stream",
          "name": "stderr",
          "text": []
        },
        {
          "output_type": "stream",
          "name": "stdout",
          "text": [
            "23:45:28 ---  Epoch: 24\tTrain loss: 0.4261\tValid loss: 0.4112\tTrain accuracy: 88.30\tValid accuracy: 88.73\n"
          ]
        },
        {
          "output_type": "stream",
          "name": "stderr",
          "text": []
        },
        {
          "output_type": "stream",
          "name": "stdout",
          "text": [
            "23:45:52 ---  Epoch: 25\tTrain loss: 0.4140\tValid loss: 0.4000\tTrain accuracy: 88.55\tValid accuracy: 89.00\n"
          ]
        },
        {
          "output_type": "stream",
          "name": "stderr",
          "text": []
        },
        {
          "output_type": "stream",
          "name": "stdout",
          "text": [
            "23:46:16 ---  Epoch: 26\tTrain loss: 0.4032\tValid loss: 0.3898\tTrain accuracy: 88.77\tValid accuracy: 89.28\n"
          ]
        },
        {
          "output_type": "stream",
          "name": "stderr",
          "text": []
        },
        {
          "output_type": "stream",
          "name": "stdout",
          "text": [
            "23:46:40 ---  Epoch: 27\tTrain loss: 0.3933\tValid loss: 0.3805\tTrain accuracy: 89.00\tValid accuracy: 89.37\n"
          ]
        },
        {
          "output_type": "stream",
          "name": "stderr",
          "text": []
        },
        {
          "output_type": "stream",
          "name": "stdout",
          "text": [
            "23:47:04 ---  Epoch: 28\tTrain loss: 0.3844\tValid loss: 0.3718\tTrain accuracy: 89.19\tValid accuracy: 89.52\n"
          ]
        },
        {
          "output_type": "stream",
          "name": "stderr",
          "text": []
        },
        {
          "output_type": "stream",
          "name": "stdout",
          "text": [
            "23:47:28 ---  Epoch: 29\tTrain loss: 0.3761\tValid loss: 0.3639\tTrain accuracy: 89.38\tValid accuracy: 89.75\n"
          ]
        },
        {
          "output_type": "stream",
          "name": "stderr",
          "text": []
        },
        {
          "output_type": "stream",
          "name": "stdout",
          "text": [
            "23:47:53 ---  Epoch: 30\tTrain loss: 0.3684\tValid loss: 0.3566\tTrain accuracy: 89.58\tValid accuracy: 89.95\n"
          ]
        },
        {
          "output_type": "stream",
          "name": "stderr",
          "text": []
        },
        {
          "output_type": "stream",
          "name": "stdout",
          "text": [
            "23:48:17 ---  Epoch: 31\tTrain loss: 0.3612\tValid loss: 0.3497\tTrain accuracy: 89.76\tValid accuracy: 90.06\n"
          ]
        },
        {
          "output_type": "stream",
          "name": "stderr",
          "text": []
        },
        {
          "output_type": "stream",
          "name": "stdout",
          "text": [
            "23:48:41 ---  Epoch: 32\tTrain loss: 0.3544\tValid loss: 0.3433\tTrain accuracy: 89.93\tValid accuracy: 90.20\n"
          ]
        },
        {
          "output_type": "stream",
          "name": "stderr",
          "text": []
        },
        {
          "output_type": "stream",
          "name": "stdout",
          "text": [
            "23:49:05 ---  Epoch: 33\tTrain loss: 0.3480\tValid loss: 0.3371\tTrain accuracy: 90.09\tValid accuracy: 90.41\n"
          ]
        },
        {
          "output_type": "stream",
          "name": "stderr",
          "text": []
        },
        {
          "output_type": "stream",
          "name": "stdout",
          "text": [
            "23:49:30 ---  Epoch: 34\tTrain loss: 0.3419\tValid loss: 0.3313\tTrain accuracy: 90.22\tValid accuracy: 90.53\n"
          ]
        },
        {
          "output_type": "stream",
          "name": "stderr",
          "text": []
        },
        {
          "output_type": "stream",
          "name": "stdout",
          "text": [
            "23:49:54 ---  Epoch: 35\tTrain loss: 0.3361\tValid loss: 0.3255\tTrain accuracy: 90.41\tValid accuracy: 90.56\n"
          ]
        },
        {
          "output_type": "stream",
          "name": "stderr",
          "text": []
        },
        {
          "output_type": "stream",
          "name": "stdout",
          "text": [
            "23:50:18 ---  Epoch: 36\tTrain loss: 0.3306\tValid loss: 0.3202\tTrain accuracy: 90.56\tValid accuracy: 90.70\n"
          ]
        },
        {
          "output_type": "stream",
          "name": "stderr",
          "text": []
        },
        {
          "output_type": "stream",
          "name": "stdout",
          "text": [
            "23:50:42 ---  Epoch: 37\tTrain loss: 0.3253\tValid loss: 0.3151\tTrain accuracy: 90.70\tValid accuracy: 90.82\n"
          ]
        },
        {
          "output_type": "stream",
          "name": "stderr",
          "text": []
        },
        {
          "output_type": "stream",
          "name": "stdout",
          "text": [
            "23:51:06 ---  Epoch: 38\tTrain loss: 0.3201\tValid loss: 0.3100\tTrain accuracy: 90.79\tValid accuracy: 90.99\n"
          ]
        },
        {
          "output_type": "stream",
          "name": "stderr",
          "text": []
        },
        {
          "output_type": "stream",
          "name": "stdout",
          "text": [
            "23:51:30 ---  Epoch: 39\tTrain loss: 0.3152\tValid loss: 0.3054\tTrain accuracy: 90.94\tValid accuracy: 91.04\n"
          ]
        },
        {
          "output_type": "stream",
          "name": "stderr",
          "text": []
        },
        {
          "output_type": "stream",
          "name": "stdout",
          "text": [
            "23:51:53 ---  Epoch: 40\tTrain loss: 0.3103\tValid loss: 0.3006\tTrain accuracy: 91.03\tValid accuracy: 91.22\n"
          ]
        },
        {
          "output_type": "display_data",
          "data": {
            "text/plain": [
              "<Figure size 800x450 with 1 Axes>"
            ],
            "image/png": "[encoded data removed]"
          },
          "metadata": {}
        }
      ]
    },
    {
      "cell_type": "code",
      "source": [
        "import matplotlib.pyplot as plt\n",
        "\n",
        "# 테스트 데이터셋을 사용하여 모델의 성능을 평가하고 틀린 예시를 저장\n",
        "def test_and_collect_mistakes(test_loader, model, criterion, device):\n",
        "    model.eval()  # 평가 모드로 전환\n",
        "    total_loss = 0\n",
        "    correct = 0\n",
        "    total = 0\n",
        "    all_preds = []\n",
        "    all_labels = []\n",
        "    mistakes = []\n",
        "\n",
        "    with torch.no_grad():  # 평가시에는 그래디언트 계산 불필요\n",
        "        for images, labels in test_loader:\n",
        "            images = images.to(device)\n",
        "            labels = labels.to(device)\n",
        "\n",
        "            # 순전파와 손실 기록하기\n",
        "            logits = model(images)\n",
        "            loss = criterion(logits, labels)\n",
        "            total_loss += loss.item() * images.size(0)\n",
        "\n",
        "            # 예측 및 정확도 계산\n",
        "            _, preds = torch.max(logits, 1)\n",
        "            correct += (preds == labels).sum().item()\n",
        "            total += labels.size(0)\n",
        "            all_preds.extend(preds.cpu().numpy())\n",
        "            all_labels.extend(labels.cpu().numpy())\n",
        "\n",
        "            # 틀린 예시 저장\n",
        "            for i in range(len(labels)):\n",
        "                if preds[i] != labels[i]:\n",
        "                    mistakes.append((images[i].cpu(), labels[i].cpu(), preds[i].cpu()))\n",
        "\n",
        "    epoch_loss = total_loss / len(test_loader.dataset)\n",
        "    accuracy = correct / total\n",
        "\n",
        "    print(f\"Test Loss: {epoch_loss:.4f}, Test Accuracy: {accuracy:.4f}\")\n",
        "    return epoch_loss, accuracy, all_preds, all_labels, mistakes\n",
        "\n",
        "# 모델 학습이 완료된 후 평가 수행\n",
        "test_loss, test_accuracy, test_preds, test_labels, mistakes = test_and_collect_mistakes(test_loader, model, criterion, DEVICE)\n",
        "\n",
        "# 틀린 예시 시각화\n",
        "def plot_mistakes(mistakes, num_examples=20):\n",
        "    plt.figure(figsize=(8, 8))\n",
        "    for i, (image, true_label, pred_label) in enumerate(mistakes[:num_examples]):\n",
        "        plt.subplot(5, 4, i + 1)\n",
        "        plt.axis('off')\n",
        "        plt.imshow(image.squeeze(), cmap='gray_r')\n",
        "        plt.title(f'True: {true_label}, Pred: {pred_label}')\n",
        "    plt.show()\n",
        "\n",
        "# 틀린 예시 출력\n",
        "plot_mistakes(mistakes)\n"
      ],
      "metadata": {
        "execution": {
          "iopub.status.busy": "2024-07-24T13:40:01.098783Z",
          "iopub.execute_input": "2024-07-24T13:40:01.099162Z",
          "iopub.status.idle": "2024-07-24T13:40:06.171154Z",
          "shell.execute_reply.started": "2024-07-24T13:40:01.099132Z",
          "shell.execute_reply": "2024-07-24T13:40:06.170267Z"
        },
        "trusted": true,
        "colab": {
          "base_uri": "https://localhost:8080/",
          "height": 693
        },
        "id": "S90F1tD_AXp7",
        "outputId": "ae76c3cd-d6b6-4574-f9df-134415c48215"
      },
      "execution_count": 39,
      "outputs": [
        {
          "output_type": "stream",
          "name": "stdout",
          "text": [
            "Test Loss: 0.3186, Test Accuracy: 0.9070\n"
          ]
        },
        {
          "output_type": "display_data",
          "data": {
            "text/plain": [
              "<Figure size 800x800 with 20 Axes>"
            ],
            "image/png": "[encoded data removed]"
          },
          "metadata": {}
        }
      ]
    },
    {
      "cell_type": "code",
      "source": [],
      "metadata": {
        "id": "RFcq8X95AXp8"
      },
      "execution_count": null,
      "outputs": []
    }
  ]
}